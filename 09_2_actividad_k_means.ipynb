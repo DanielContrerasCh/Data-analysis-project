{
  "nbformat": 4,
  "nbformat_minor": 0,
  "metadata": {
    "colab": {
      "provenance": [],
      "include_colab_link": true
    },
    "kernelspec": {
      "name": "python3",
      "display_name": "Python 3"
    },
    "language_info": {
      "name": "python"
    }
  },
  "cells": [
    {
      "cell_type": "markdown",
      "metadata": {
        "id": "view-in-github",
        "colab_type": "text"
      },
      "source": [
        "<a href=\"https://colab.research.google.com/github/Programming-Daniel/SemanaTec/blob/main/09_2_actividad_k_means.ipynb\" target=\"_parent\"><img src=\"https://colab.research.google.com/assets/colab-badge.svg\" alt=\"Open In Colab\"/></a>"
      ]
    },
    {
      "cell_type": "markdown",
      "source": [
        "# Actividad - Estadística básica"
      ],
      "metadata": {
        "id": "Zlev5tghCy2G"
      }
    },
    {
      "cell_type": "markdown",
      "source": [
        "* **Nombre: Daniel Conreras Chávez**\n",
        "* **Matrícula: A01710608**"
      ],
      "metadata": {
        "id": "UzLPBnd5C4xy"
      }
    },
    {
      "cell_type": "markdown",
      "source": [
        "**Entregar:** Archivo PDF de la actividad, así como el archivo .ipynb en tu repositorio.\n",
        "**Nota:** Recuerda habrá una penalización de **50** puntos si la actividad fue entregada fuera de la fecha límite."
      ],
      "metadata": {
        "id": "CIeakL6CDCTC"
      }
    },
    {
      "cell_type": "markdown",
      "source": [
        "Carga el conjunto de datos `bestsellers with categories.csv` (se encuentra en el repositorio de la clase) y realiza un análisis estadístico de las variables."
      ],
      "metadata": {
        "id": "tU8Hn1jdDNTc"
      }
    },
    {
      "cell_type": "code",
      "source": [
        "# Carga las librerías necesarias.\n",
        "import numpy as np\n",
        "import pandas as pd\n",
        "import matplotlib.pyplot as plt\n",
        "import seaborn as sns; sns.set()\n",
        "from sklearn.cluster import KMeans\n",
        "from sklearn.metrics import silhouette_score"
      ],
      "metadata": {
        "id": "7ehdNB9iDBi7"
      },
      "execution_count": 12,
      "outputs": []
    },
    {
      "cell_type": "code",
      "source": [
        "# Carga el conjunto de datos al ambiente de Google Colab y muestra los primeros\n",
        "# 6 renglones.\n",
        "!curl -O https://raw.githubusercontent.com/Manchas2k4/tc1002S/main/datasets/bestsellers%20with%20categories.csv\n",
        "df = pd.read_csv('bestsellers%20with%20categories.csv')\n",
        "df.head(6)"
      ],
      "metadata": {
        "id": "vvPwkAtkDasd",
        "colab": {
          "base_uri": "https://localhost:8080/",
          "height": 290
        },
        "outputId": "bc914276-30c1-4d16-919e-8f9f15989527"
      },
      "execution_count": 3,
      "outputs": [
        {
          "output_type": "stream",
          "name": "stdout",
          "text": [
            "  % Total    % Received % Xferd  Average Speed   Time    Time     Time  Current\n",
            "                                 Dload  Upload   Total   Spent    Left  Speed\n",
            "\r  0     0    0     0    0     0      0      0 --:--:-- --:--:-- --:--:--     0\r  0     0    0     0    0     0      0      0 --:--:-- --:--:-- --:--:--     0\r100 51161  100 51161    0     0   310k      0 --:--:-- --:--:-- --:--:--  308k\n"
          ]
        },
        {
          "output_type": "execute_result",
          "data": {
            "text/plain": [
              "                                                Name  \\\n",
              "0                      10-Day Green Smoothie Cleanse   \n",
              "1                                  11/22/63: A Novel   \n",
              "2            12 Rules for Life: An Antidote to Chaos   \n",
              "3                             1984 (Signet Classics)   \n",
              "4  5,000 Awesome Facts (About Everything!) (Natio...   \n",
              "5      A Dance with Dragons (A Song of Ice and Fire)   \n",
              "\n",
              "                     Author  User Rating  Reviews  Price  Year        Genre  \n",
              "0                  JJ Smith          4.7    17350      8  2016  Non Fiction  \n",
              "1              Stephen King          4.6     2052     22  2011      Fiction  \n",
              "2        Jordan B. Peterson          4.7    18979     15  2018  Non Fiction  \n",
              "3             George Orwell          4.7    21424      6  2017      Fiction  \n",
              "4  National Geographic Kids          4.8     7665     12  2019  Non Fiction  \n",
              "5       George R. R. Martin          4.4    12643     11  2011      Fiction  "
            ],
            "text/html": [
              "\n",
              "  <div id=\"df-9cb26270-eb61-4b23-9846-4ea9ca0aa423\">\n",
              "    <div class=\"colab-df-container\">\n",
              "      <div>\n",
              "<style scoped>\n",
              "    .dataframe tbody tr th:only-of-type {\n",
              "        vertical-align: middle;\n",
              "    }\n",
              "\n",
              "    .dataframe tbody tr th {\n",
              "        vertical-align: top;\n",
              "    }\n",
              "\n",
              "    .dataframe thead th {\n",
              "        text-align: right;\n",
              "    }\n",
              "</style>\n",
              "<table border=\"1\" class=\"dataframe\">\n",
              "  <thead>\n",
              "    <tr style=\"text-align: right;\">\n",
              "      <th></th>\n",
              "      <th>Name</th>\n",
              "      <th>Author</th>\n",
              "      <th>User Rating</th>\n",
              "      <th>Reviews</th>\n",
              "      <th>Price</th>\n",
              "      <th>Year</th>\n",
              "      <th>Genre</th>\n",
              "    </tr>\n",
              "  </thead>\n",
              "  <tbody>\n",
              "    <tr>\n",
              "      <th>0</th>\n",
              "      <td>10-Day Green Smoothie Cleanse</td>\n",
              "      <td>JJ Smith</td>\n",
              "      <td>4.7</td>\n",
              "      <td>17350</td>\n",
              "      <td>8</td>\n",
              "      <td>2016</td>\n",
              "      <td>Non Fiction</td>\n",
              "    </tr>\n",
              "    <tr>\n",
              "      <th>1</th>\n",
              "      <td>11/22/63: A Novel</td>\n",
              "      <td>Stephen King</td>\n",
              "      <td>4.6</td>\n",
              "      <td>2052</td>\n",
              "      <td>22</td>\n",
              "      <td>2011</td>\n",
              "      <td>Fiction</td>\n",
              "    </tr>\n",
              "    <tr>\n",
              "      <th>2</th>\n",
              "      <td>12 Rules for Life: An Antidote to Chaos</td>\n",
              "      <td>Jordan B. Peterson</td>\n",
              "      <td>4.7</td>\n",
              "      <td>18979</td>\n",
              "      <td>15</td>\n",
              "      <td>2018</td>\n",
              "      <td>Non Fiction</td>\n",
              "    </tr>\n",
              "    <tr>\n",
              "      <th>3</th>\n",
              "      <td>1984 (Signet Classics)</td>\n",
              "      <td>George Orwell</td>\n",
              "      <td>4.7</td>\n",
              "      <td>21424</td>\n",
              "      <td>6</td>\n",
              "      <td>2017</td>\n",
              "      <td>Fiction</td>\n",
              "    </tr>\n",
              "    <tr>\n",
              "      <th>4</th>\n",
              "      <td>5,000 Awesome Facts (About Everything!) (Natio...</td>\n",
              "      <td>National Geographic Kids</td>\n",
              "      <td>4.8</td>\n",
              "      <td>7665</td>\n",
              "      <td>12</td>\n",
              "      <td>2019</td>\n",
              "      <td>Non Fiction</td>\n",
              "    </tr>\n",
              "    <tr>\n",
              "      <th>5</th>\n",
              "      <td>A Dance with Dragons (A Song of Ice and Fire)</td>\n",
              "      <td>George R. R. Martin</td>\n",
              "      <td>4.4</td>\n",
              "      <td>12643</td>\n",
              "      <td>11</td>\n",
              "      <td>2011</td>\n",
              "      <td>Fiction</td>\n",
              "    </tr>\n",
              "  </tbody>\n",
              "</table>\n",
              "</div>\n",
              "      <button class=\"colab-df-convert\" onclick=\"convertToInteractive('df-9cb26270-eb61-4b23-9846-4ea9ca0aa423')\"\n",
              "              title=\"Convert this dataframe to an interactive table.\"\n",
              "              style=\"display:none;\">\n",
              "        \n",
              "  <svg xmlns=\"http://www.w3.org/2000/svg\" height=\"24px\"viewBox=\"0 0 24 24\"\n",
              "       width=\"24px\">\n",
              "    <path d=\"M0 0h24v24H0V0z\" fill=\"none\"/>\n",
              "    <path d=\"M18.56 5.44l.94 2.06.94-2.06 2.06-.94-2.06-.94-.94-2.06-.94 2.06-2.06.94zm-11 1L8.5 8.5l.94-2.06 2.06-.94-2.06-.94L8.5 2.5l-.94 2.06-2.06.94zm10 10l.94 2.06.94-2.06 2.06-.94-2.06-.94-.94-2.06-.94 2.06-2.06.94z\"/><path d=\"M17.41 7.96l-1.37-1.37c-.4-.4-.92-.59-1.43-.59-.52 0-1.04.2-1.43.59L10.3 9.45l-7.72 7.72c-.78.78-.78 2.05 0 2.83L4 21.41c.39.39.9.59 1.41.59.51 0 1.02-.2 1.41-.59l7.78-7.78 2.81-2.81c.8-.78.8-2.07 0-2.86zM5.41 20L4 18.59l7.72-7.72 1.47 1.35L5.41 20z\"/>\n",
              "  </svg>\n",
              "      </button>\n",
              "      \n",
              "  <style>\n",
              "    .colab-df-container {\n",
              "      display:flex;\n",
              "      flex-wrap:wrap;\n",
              "      gap: 12px;\n",
              "    }\n",
              "\n",
              "    .colab-df-convert {\n",
              "      background-color: #E8F0FE;\n",
              "      border: none;\n",
              "      border-radius: 50%;\n",
              "      cursor: pointer;\n",
              "      display: none;\n",
              "      fill: #1967D2;\n",
              "      height: 32px;\n",
              "      padding: 0 0 0 0;\n",
              "      width: 32px;\n",
              "    }\n",
              "\n",
              "    .colab-df-convert:hover {\n",
              "      background-color: #E2EBFA;\n",
              "      box-shadow: 0px 1px 2px rgba(60, 64, 67, 0.3), 0px 1px 3px 1px rgba(60, 64, 67, 0.15);\n",
              "      fill: #174EA6;\n",
              "    }\n",
              "\n",
              "    [theme=dark] .colab-df-convert {\n",
              "      background-color: #3B4455;\n",
              "      fill: #D2E3FC;\n",
              "    }\n",
              "\n",
              "    [theme=dark] .colab-df-convert:hover {\n",
              "      background-color: #434B5C;\n",
              "      box-shadow: 0px 1px 3px 1px rgba(0, 0, 0, 0.15);\n",
              "      filter: drop-shadow(0px 1px 2px rgba(0, 0, 0, 0.3));\n",
              "      fill: #FFFFFF;\n",
              "    }\n",
              "  </style>\n",
              "\n",
              "      <script>\n",
              "        const buttonEl =\n",
              "          document.querySelector('#df-9cb26270-eb61-4b23-9846-4ea9ca0aa423 button.colab-df-convert');\n",
              "        buttonEl.style.display =\n",
              "          google.colab.kernel.accessAllowed ? 'block' : 'none';\n",
              "\n",
              "        async function convertToInteractive(key) {\n",
              "          const element = document.querySelector('#df-9cb26270-eb61-4b23-9846-4ea9ca0aa423');\n",
              "          const dataTable =\n",
              "            await google.colab.kernel.invokeFunction('convertToInteractive',\n",
              "                                                     [key], {});\n",
              "          if (!dataTable) return;\n",
              "\n",
              "          const docLinkHtml = 'Like what you see? Visit the ' +\n",
              "            '<a target=\"_blank\" href=https://colab.research.google.com/notebooks/data_table.ipynb>data table notebook</a>'\n",
              "            + ' to learn more about interactive tables.';\n",
              "          element.innerHTML = '';\n",
              "          dataTable['output_type'] = 'display_data';\n",
              "          await google.colab.output.renderOutput(dataTable, element);\n",
              "          const docLink = document.createElement('div');\n",
              "          docLink.innerHTML = docLinkHtml;\n",
              "          element.appendChild(docLink);\n",
              "        }\n",
              "      </script>\n",
              "    </div>\n",
              "  </div>\n",
              "  "
            ]
          },
          "metadata": {},
          "execution_count": 3
        }
      ]
    },
    {
      "cell_type": "markdown",
      "source": [
        "El conjunto de datos es una tabla que contiene el top 50 de los libros más vendidos por Amazon por año desde 2009 hasta 2019. Cada libro está clasificado como Ficción o No ficción.\n",
        "\n",
        "Las variables que contiene son:\n",
        "* **Name**: Nombre del libro.\n",
        "* **Author**: Autor.\n",
        "* **User Rating**: Calificación promedio que los usuarios asignaron al libro (1-5).\n",
        "* **Reviews**: Número de reseñas.\n",
        "* **Price**: Precio del libro.\n",
        "* **Year**: Año de publicación.\n",
        "* **Genre**: Género literario (ficción/no ficción)."
      ],
      "metadata": {
        "id": "HjeUwH4QE7QZ"
      }
    },
    {
      "cell_type": "markdown",
      "source": [
        "## Análisis estadístico\n",
        "1. Carga la tabla de datos y haz un análisis estadístico de las variables.\n",
        "* Verifica la cantidad de datos que tienes, las variables que contiene cada vector de datos e identifica el tipo de variables.\n",
        "* Analiza las variables para saber que representa cada una y en que rangos se encuentran. Si la descripción del problema no te lo indica, utiliza el máximo y el mínimo para encontrarlo.\n",
        "* Basándote en la media, mediana y desviación estándar de cada variable, ¿qué conclusiones puedes entregar de los datos?\n",
        "* Calcula la correlación de las variables que consideres relevantes."
      ],
      "metadata": {
        "id": "yJJG546x0cSe"
      }
    },
    {
      "cell_type": "code",
      "source": [
        "# Escribe el código necesario para realizar el análisis estadístico descrito \n",
        "# anteriorment.\n",
        "\n",
        "df.info()"
      ],
      "metadata": {
        "id": "HmMvv5Zn0yFZ",
        "colab": {
          "base_uri": "https://localhost:8080/"
        },
        "outputId": "705f03ea-3467-49fc-928d-2194dc409172"
      },
      "execution_count": 4,
      "outputs": [
        {
          "output_type": "stream",
          "name": "stdout",
          "text": [
            "<class 'pandas.core.frame.DataFrame'>\n",
            "RangeIndex: 550 entries, 0 to 549\n",
            "Data columns (total 7 columns):\n",
            " #   Column       Non-Null Count  Dtype  \n",
            "---  ------       --------------  -----  \n",
            " 0   Name         550 non-null    object \n",
            " 1   Author       550 non-null    object \n",
            " 2   User Rating  550 non-null    float64\n",
            " 3   Reviews      550 non-null    int64  \n",
            " 4   Price        550 non-null    int64  \n",
            " 5   Year         550 non-null    int64  \n",
            " 6   Genre        550 non-null    object \n",
            "dtypes: float64(1), int64(3), object(3)\n",
            "memory usage: 30.2+ KB\n"
          ]
        }
      ]
    },
    {
      "cell_type": "code",
      "source": [
        "df.describe()"
      ],
      "metadata": {
        "colab": {
          "base_uri": "https://localhost:8080/",
          "height": 300
        },
        "id": "pv7nSrYuN0Aj",
        "outputId": "07e23b6d-ae8e-44e0-9edc-52b7dea69ceb"
      },
      "execution_count": 5,
      "outputs": [
        {
          "output_type": "execute_result",
          "data": {
            "text/plain": [
              "       User Rating       Reviews       Price         Year\n",
              "count   550.000000    550.000000  550.000000   550.000000\n",
              "mean      4.618364  11953.281818   13.100000  2014.000000\n",
              "std       0.226980  11731.132017   10.842262     3.165156\n",
              "min       3.300000     37.000000    0.000000  2009.000000\n",
              "25%       4.500000   4058.000000    7.000000  2011.000000\n",
              "50%       4.700000   8580.000000   11.000000  2014.000000\n",
              "75%       4.800000  17253.250000   16.000000  2017.000000\n",
              "max       4.900000  87841.000000  105.000000  2019.000000"
            ],
            "text/html": [
              "\n",
              "  <div id=\"df-4a07e2af-e1b4-49a9-803a-a8add68a2178\">\n",
              "    <div class=\"colab-df-container\">\n",
              "      <div>\n",
              "<style scoped>\n",
              "    .dataframe tbody tr th:only-of-type {\n",
              "        vertical-align: middle;\n",
              "    }\n",
              "\n",
              "    .dataframe tbody tr th {\n",
              "        vertical-align: top;\n",
              "    }\n",
              "\n",
              "    .dataframe thead th {\n",
              "        text-align: right;\n",
              "    }\n",
              "</style>\n",
              "<table border=\"1\" class=\"dataframe\">\n",
              "  <thead>\n",
              "    <tr style=\"text-align: right;\">\n",
              "      <th></th>\n",
              "      <th>User Rating</th>\n",
              "      <th>Reviews</th>\n",
              "      <th>Price</th>\n",
              "      <th>Year</th>\n",
              "    </tr>\n",
              "  </thead>\n",
              "  <tbody>\n",
              "    <tr>\n",
              "      <th>count</th>\n",
              "      <td>550.000000</td>\n",
              "      <td>550.000000</td>\n",
              "      <td>550.000000</td>\n",
              "      <td>550.000000</td>\n",
              "    </tr>\n",
              "    <tr>\n",
              "      <th>mean</th>\n",
              "      <td>4.618364</td>\n",
              "      <td>11953.281818</td>\n",
              "      <td>13.100000</td>\n",
              "      <td>2014.000000</td>\n",
              "    </tr>\n",
              "    <tr>\n",
              "      <th>std</th>\n",
              "      <td>0.226980</td>\n",
              "      <td>11731.132017</td>\n",
              "      <td>10.842262</td>\n",
              "      <td>3.165156</td>\n",
              "    </tr>\n",
              "    <tr>\n",
              "      <th>min</th>\n",
              "      <td>3.300000</td>\n",
              "      <td>37.000000</td>\n",
              "      <td>0.000000</td>\n",
              "      <td>2009.000000</td>\n",
              "    </tr>\n",
              "    <tr>\n",
              "      <th>25%</th>\n",
              "      <td>4.500000</td>\n",
              "      <td>4058.000000</td>\n",
              "      <td>7.000000</td>\n",
              "      <td>2011.000000</td>\n",
              "    </tr>\n",
              "    <tr>\n",
              "      <th>50%</th>\n",
              "      <td>4.700000</td>\n",
              "      <td>8580.000000</td>\n",
              "      <td>11.000000</td>\n",
              "      <td>2014.000000</td>\n",
              "    </tr>\n",
              "    <tr>\n",
              "      <th>75%</th>\n",
              "      <td>4.800000</td>\n",
              "      <td>17253.250000</td>\n",
              "      <td>16.000000</td>\n",
              "      <td>2017.000000</td>\n",
              "    </tr>\n",
              "    <tr>\n",
              "      <th>max</th>\n",
              "      <td>4.900000</td>\n",
              "      <td>87841.000000</td>\n",
              "      <td>105.000000</td>\n",
              "      <td>2019.000000</td>\n",
              "    </tr>\n",
              "  </tbody>\n",
              "</table>\n",
              "</div>\n",
              "      <button class=\"colab-df-convert\" onclick=\"convertToInteractive('df-4a07e2af-e1b4-49a9-803a-a8add68a2178')\"\n",
              "              title=\"Convert this dataframe to an interactive table.\"\n",
              "              style=\"display:none;\">\n",
              "        \n",
              "  <svg xmlns=\"http://www.w3.org/2000/svg\" height=\"24px\"viewBox=\"0 0 24 24\"\n",
              "       width=\"24px\">\n",
              "    <path d=\"M0 0h24v24H0V0z\" fill=\"none\"/>\n",
              "    <path d=\"M18.56 5.44l.94 2.06.94-2.06 2.06-.94-2.06-.94-.94-2.06-.94 2.06-2.06.94zm-11 1L8.5 8.5l.94-2.06 2.06-.94-2.06-.94L8.5 2.5l-.94 2.06-2.06.94zm10 10l.94 2.06.94-2.06 2.06-.94-2.06-.94-.94-2.06-.94 2.06-2.06.94z\"/><path d=\"M17.41 7.96l-1.37-1.37c-.4-.4-.92-.59-1.43-.59-.52 0-1.04.2-1.43.59L10.3 9.45l-7.72 7.72c-.78.78-.78 2.05 0 2.83L4 21.41c.39.39.9.59 1.41.59.51 0 1.02-.2 1.41-.59l7.78-7.78 2.81-2.81c.8-.78.8-2.07 0-2.86zM5.41 20L4 18.59l7.72-7.72 1.47 1.35L5.41 20z\"/>\n",
              "  </svg>\n",
              "      </button>\n",
              "      \n",
              "  <style>\n",
              "    .colab-df-container {\n",
              "      display:flex;\n",
              "      flex-wrap:wrap;\n",
              "      gap: 12px;\n",
              "    }\n",
              "\n",
              "    .colab-df-convert {\n",
              "      background-color: #E8F0FE;\n",
              "      border: none;\n",
              "      border-radius: 50%;\n",
              "      cursor: pointer;\n",
              "      display: none;\n",
              "      fill: #1967D2;\n",
              "      height: 32px;\n",
              "      padding: 0 0 0 0;\n",
              "      width: 32px;\n",
              "    }\n",
              "\n",
              "    .colab-df-convert:hover {\n",
              "      background-color: #E2EBFA;\n",
              "      box-shadow: 0px 1px 2px rgba(60, 64, 67, 0.3), 0px 1px 3px 1px rgba(60, 64, 67, 0.15);\n",
              "      fill: #174EA6;\n",
              "    }\n",
              "\n",
              "    [theme=dark] .colab-df-convert {\n",
              "      background-color: #3B4455;\n",
              "      fill: #D2E3FC;\n",
              "    }\n",
              "\n",
              "    [theme=dark] .colab-df-convert:hover {\n",
              "      background-color: #434B5C;\n",
              "      box-shadow: 0px 1px 3px 1px rgba(0, 0, 0, 0.15);\n",
              "      filter: drop-shadow(0px 1px 2px rgba(0, 0, 0, 0.3));\n",
              "      fill: #FFFFFF;\n",
              "    }\n",
              "  </style>\n",
              "\n",
              "      <script>\n",
              "        const buttonEl =\n",
              "          document.querySelector('#df-4a07e2af-e1b4-49a9-803a-a8add68a2178 button.colab-df-convert');\n",
              "        buttonEl.style.display =\n",
              "          google.colab.kernel.accessAllowed ? 'block' : 'none';\n",
              "\n",
              "        async function convertToInteractive(key) {\n",
              "          const element = document.querySelector('#df-4a07e2af-e1b4-49a9-803a-a8add68a2178');\n",
              "          const dataTable =\n",
              "            await google.colab.kernel.invokeFunction('convertToInteractive',\n",
              "                                                     [key], {});\n",
              "          if (!dataTable) return;\n",
              "\n",
              "          const docLinkHtml = 'Like what you see? Visit the ' +\n",
              "            '<a target=\"_blank\" href=https://colab.research.google.com/notebooks/data_table.ipynb>data table notebook</a>'\n",
              "            + ' to learn more about interactive tables.';\n",
              "          element.innerHTML = '';\n",
              "          dataTable['output_type'] = 'display_data';\n",
              "          await google.colab.output.renderOutput(dataTable, element);\n",
              "          const docLink = document.createElement('div');\n",
              "          docLink.innerHTML = docLinkHtml;\n",
              "          element.appendChild(docLink);\n",
              "        }\n",
              "      </script>\n",
              "    </div>\n",
              "  </div>\n",
              "  "
            ]
          },
          "metadata": {},
          "execution_count": 5
        }
      ]
    },
    {
      "cell_type": "code",
      "source": [
        "df.corr()"
      ],
      "metadata": {
        "colab": {
          "base_uri": "https://localhost:8080/",
          "height": 175
        },
        "id": "M6okRF5pN8XB",
        "outputId": "8f2e6b3c-e5b1-4e03-977a-93d2ad0e60f5"
      },
      "execution_count": 6,
      "outputs": [
        {
          "output_type": "execute_result",
          "data": {
            "text/plain": [
              "             User Rating   Reviews     Price      Year\n",
              "User Rating     1.000000 -0.001729 -0.133086  0.242383\n",
              "Reviews        -0.001729  1.000000 -0.109182  0.263560\n",
              "Price          -0.133086 -0.109182  1.000000 -0.153979\n",
              "Year            0.242383  0.263560 -0.153979  1.000000"
            ],
            "text/html": [
              "\n",
              "  <div id=\"df-5cbc5aa2-85b9-41c1-a9ac-01eb4535125c\">\n",
              "    <div class=\"colab-df-container\">\n",
              "      <div>\n",
              "<style scoped>\n",
              "    .dataframe tbody tr th:only-of-type {\n",
              "        vertical-align: middle;\n",
              "    }\n",
              "\n",
              "    .dataframe tbody tr th {\n",
              "        vertical-align: top;\n",
              "    }\n",
              "\n",
              "    .dataframe thead th {\n",
              "        text-align: right;\n",
              "    }\n",
              "</style>\n",
              "<table border=\"1\" class=\"dataframe\">\n",
              "  <thead>\n",
              "    <tr style=\"text-align: right;\">\n",
              "      <th></th>\n",
              "      <th>User Rating</th>\n",
              "      <th>Reviews</th>\n",
              "      <th>Price</th>\n",
              "      <th>Year</th>\n",
              "    </tr>\n",
              "  </thead>\n",
              "  <tbody>\n",
              "    <tr>\n",
              "      <th>User Rating</th>\n",
              "      <td>1.000000</td>\n",
              "      <td>-0.001729</td>\n",
              "      <td>-0.133086</td>\n",
              "      <td>0.242383</td>\n",
              "    </tr>\n",
              "    <tr>\n",
              "      <th>Reviews</th>\n",
              "      <td>-0.001729</td>\n",
              "      <td>1.000000</td>\n",
              "      <td>-0.109182</td>\n",
              "      <td>0.263560</td>\n",
              "    </tr>\n",
              "    <tr>\n",
              "      <th>Price</th>\n",
              "      <td>-0.133086</td>\n",
              "      <td>-0.109182</td>\n",
              "      <td>1.000000</td>\n",
              "      <td>-0.153979</td>\n",
              "    </tr>\n",
              "    <tr>\n",
              "      <th>Year</th>\n",
              "      <td>0.242383</td>\n",
              "      <td>0.263560</td>\n",
              "      <td>-0.153979</td>\n",
              "      <td>1.000000</td>\n",
              "    </tr>\n",
              "  </tbody>\n",
              "</table>\n",
              "</div>\n",
              "      <button class=\"colab-df-convert\" onclick=\"convertToInteractive('df-5cbc5aa2-85b9-41c1-a9ac-01eb4535125c')\"\n",
              "              title=\"Convert this dataframe to an interactive table.\"\n",
              "              style=\"display:none;\">\n",
              "        \n",
              "  <svg xmlns=\"http://www.w3.org/2000/svg\" height=\"24px\"viewBox=\"0 0 24 24\"\n",
              "       width=\"24px\">\n",
              "    <path d=\"M0 0h24v24H0V0z\" fill=\"none\"/>\n",
              "    <path d=\"M18.56 5.44l.94 2.06.94-2.06 2.06-.94-2.06-.94-.94-2.06-.94 2.06-2.06.94zm-11 1L8.5 8.5l.94-2.06 2.06-.94-2.06-.94L8.5 2.5l-.94 2.06-2.06.94zm10 10l.94 2.06.94-2.06 2.06-.94-2.06-.94-.94-2.06-.94 2.06-2.06.94z\"/><path d=\"M17.41 7.96l-1.37-1.37c-.4-.4-.92-.59-1.43-.59-.52 0-1.04.2-1.43.59L10.3 9.45l-7.72 7.72c-.78.78-.78 2.05 0 2.83L4 21.41c.39.39.9.59 1.41.59.51 0 1.02-.2 1.41-.59l7.78-7.78 2.81-2.81c.8-.78.8-2.07 0-2.86zM5.41 20L4 18.59l7.72-7.72 1.47 1.35L5.41 20z\"/>\n",
              "  </svg>\n",
              "      </button>\n",
              "      \n",
              "  <style>\n",
              "    .colab-df-container {\n",
              "      display:flex;\n",
              "      flex-wrap:wrap;\n",
              "      gap: 12px;\n",
              "    }\n",
              "\n",
              "    .colab-df-convert {\n",
              "      background-color: #E8F0FE;\n",
              "      border: none;\n",
              "      border-radius: 50%;\n",
              "      cursor: pointer;\n",
              "      display: none;\n",
              "      fill: #1967D2;\n",
              "      height: 32px;\n",
              "      padding: 0 0 0 0;\n",
              "      width: 32px;\n",
              "    }\n",
              "\n",
              "    .colab-df-convert:hover {\n",
              "      background-color: #E2EBFA;\n",
              "      box-shadow: 0px 1px 2px rgba(60, 64, 67, 0.3), 0px 1px 3px 1px rgba(60, 64, 67, 0.15);\n",
              "      fill: #174EA6;\n",
              "    }\n",
              "\n",
              "    [theme=dark] .colab-df-convert {\n",
              "      background-color: #3B4455;\n",
              "      fill: #D2E3FC;\n",
              "    }\n",
              "\n",
              "    [theme=dark] .colab-df-convert:hover {\n",
              "      background-color: #434B5C;\n",
              "      box-shadow: 0px 1px 3px 1px rgba(0, 0, 0, 0.15);\n",
              "      filter: drop-shadow(0px 1px 2px rgba(0, 0, 0, 0.3));\n",
              "      fill: #FFFFFF;\n",
              "    }\n",
              "  </style>\n",
              "\n",
              "      <script>\n",
              "        const buttonEl =\n",
              "          document.querySelector('#df-5cbc5aa2-85b9-41c1-a9ac-01eb4535125c button.colab-df-convert');\n",
              "        buttonEl.style.display =\n",
              "          google.colab.kernel.accessAllowed ? 'block' : 'none';\n",
              "\n",
              "        async function convertToInteractive(key) {\n",
              "          const element = document.querySelector('#df-5cbc5aa2-85b9-41c1-a9ac-01eb4535125c');\n",
              "          const dataTable =\n",
              "            await google.colab.kernel.invokeFunction('convertToInteractive',\n",
              "                                                     [key], {});\n",
              "          if (!dataTable) return;\n",
              "\n",
              "          const docLinkHtml = 'Like what you see? Visit the ' +\n",
              "            '<a target=\"_blank\" href=https://colab.research.google.com/notebooks/data_table.ipynb>data table notebook</a>'\n",
              "            + ' to learn more about interactive tables.';\n",
              "          element.innerHTML = '';\n",
              "          dataTable['output_type'] = 'display_data';\n",
              "          await google.colab.output.renderOutput(dataTable, element);\n",
              "          const docLink = document.createElement('div');\n",
              "          docLink.innerHTML = docLinkHtml;\n",
              "          element.appendChild(docLink);\n",
              "        }\n",
              "      </script>\n",
              "    </div>\n",
              "  </div>\n",
              "  "
            ]
          },
          "metadata": {},
          "execution_count": 6
        }
      ]
    },
    {
      "cell_type": "markdown",
      "source": [
        "¿Cuáles son las variables relevantes e irrelevantes para el análisis?"
      ],
      "metadata": {
        "id": "GlA5IOHo0ttO"
      }
    },
    {
      "cell_type": "markdown",
      "source": [
        "**Al ver el análisis de la correlación, podemos ver que no hay una que afecte en mayor medida a las otras, además de que year resulta irrelevante.**"
      ],
      "metadata": {
        "id": "KziVM1L80961"
      }
    },
    {
      "cell_type": "markdown",
      "source": [
        "## Análisis gráfico"
      ],
      "metadata": {
        "id": "InGME9Vm1GCi"
      }
    },
    {
      "cell_type": "markdown",
      "source": [
        "Realiza el análisis de las variables usando diagramas de cajas y bigotes, histogramas y mapas de calor.\n",
        "\n",
        "Responde las siguientes preguntas:\n",
        "* ¿Hay alguna variable que no aporta información? Si tuvieras que eliminar variables, ¿cuáles quitarías y por qué?\n",
        "\n",
        "Si, para realizar un análisis correcto, sería necesario eliminar las columnas de nombre, autor, género y year.\n",
        "* ¿Existen variables que tengan datos extraños?\n",
        "\n",
        "No\n",
        "* Si comparas las variables, ¿todas están en rangos similares? ¿Crees que esto afecte?\n",
        "\n",
        "No, no están en rangos similares, y si puede llegar a afectar el hecho de que la escala no esté normalizada.\n",
        "* ¿Puedes encontrar grupos qué se parezcan? ¿Qué grupos son estos?\n",
        "\n",
        "Price y user rating.\n",
        "Haz un análisis estadístico de los datos antes de empezar con la segmentación. Debe contener al menos:\n",
        "* 1 gráfico de caja (boxplot)\n",
        "* 1 mapa de calor\n",
        "* 1 gráfico de dispersión\n",
        "   \n",
        "Describe brevemente las conclusiones que se pueden obtener con las gráficas."
      ],
      "metadata": {
        "id": "VL97gKC71JxD"
      }
    },
    {
      "cell_type": "code",
      "source": [
        "ndf = df.drop('Name',axis=1)\n",
        "ndf = ndf.drop('Author',axis=1)\n",
        "ndf = ndf.drop('Genre',axis=1)\n",
        "ndf= ndf.drop('Year',axis=1)\n",
        "\n",
        "sns.boxplot(data=ndf, x='Reviews')"
      ],
      "metadata": {
        "id": "gTUNEvfi1Xsi",
        "colab": {
          "base_uri": "https://localhost:8080/",
          "height": 302
        },
        "outputId": "6da6f8e4-9eda-4f82-d095-648b5d2100bc"
      },
      "execution_count": 7,
      "outputs": [
        {
          "output_type": "execute_result",
          "data": {
            "text/plain": [
              "<Axes: xlabel='Reviews'>"
            ]
          },
          "metadata": {},
          "execution_count": 7
        },
        {
          "output_type": "display_data",
          "data": {
            "text/plain": [
              "<Figure size 432x288 with 1 Axes>"
            ],
            "image/png": "[encoded data removed]"
          },
          "metadata": {}
        }
      ]
    },
    {
      "cell_type": "code",
      "source": [
        "ndf_corr = ndf.corr()\n",
        "\n",
        "sns.heatmap(data=ndf_corr,vmin=-1, vmax=1, cmap = 'RdBu', annot=True, square = True)"
      ],
      "metadata": {
        "colab": {
          "base_uri": "https://localhost:8080/",
          "height": 289
        },
        "id": "h2Fxt44WIg2l",
        "outputId": "183c38b6-9dbd-4ec6-93ea-8d7fe5b4b9e6"
      },
      "execution_count": 8,
      "outputs": [
        {
          "output_type": "execute_result",
          "data": {
            "text/plain": [
              "<Axes: >"
            ]
          },
          "metadata": {},
          "execution_count": 8
        },
        {
          "output_type": "display_data",
          "data": {
            "text/plain": [
              "<Figure size 432x288 with 2 Axes>"
            ],
            "image/png": "[encoded data removed]"
          },
          "metadata": {}
        }
      ]
    },
    {
      "cell_type": "code",
      "source": [
        "sns.pairplot(data=ndf)"
      ],
      "metadata": {
        "colab": {
          "base_uri": "https://localhost:8080/",
          "height": 565
        },
        "id": "Bqw8-espImZx",
        "outputId": "7c726feb-d13d-46d6-d023-a61759feb1ac"
      },
      "execution_count": 9,
      "outputs": [
        {
          "output_type": "execute_result",
          "data": {
            "text/plain": [
              "<seaborn.axisgrid.PairGrid at 0x7fea25ac7b80>"
            ]
          },
          "metadata": {},
          "execution_count": 9
        },
        {
          "output_type": "display_data",
          "data": {
            "text/plain": [
              "<Figure size 540x540 with 12 Axes>"
            ],
            "image/png": "[encoded data removed]"
          },
          "metadata": {}
        }
      ]
    },
    {
      "cell_type": "markdown",
      "source": [
        "**Después de ver las diferentes gráficas, en especial las vistas en el pairplot (Donde también hay gráficas de dispersión) Podemos concluir que si hay imágenes espejo, por lo que todas las variables propuestas pueden ser usadas para el análisis.**"
      ],
      "metadata": {
        "id": "SjXAdNmf1YDK"
      }
    },
    {
      "cell_type": "markdown",
      "source": [
        "## Clústering"
      ],
      "metadata": {
        "id": "YZxGzhZ01e98"
      }
    },
    {
      "cell_type": "markdown",
      "source": [
        "Una vez que hayas realizado un análisis preliminar, haz una segmentación utilizando el método de K-Means. Justifica el número de clusters que elegiste.\n",
        "* Determina un valor de $k$\n",
        "* Calcula los centros de los grupos resultantes del algoritmo k-means\n",
        "\n",
        "Basado en los centros responde las siguientes preguntas\n",
        "- ¿Crees que estos centros puedan ser representativos de los datos? ¿Por qué?\n",
        "\n",
        "Si, si pueden ser representativos, pues para calcularlos se uiliza la media de los valores y son los puntos que se encuentran más cerca a los centroides.\n",
        "- ¿Cómo obtuviste el valor de $k$ a usar?\n",
        "\n",
        "El valor de k se obtuvo al analizar el pairplot donde podemos observar que hay 4 clusters.\n",
        "- ¿Los centros serían más representativos si usaras un valor más alto? ¿Más bajo?\n",
        "\n",
        "Si se empleara un valor de k más elevado, los centros que se obtendrían serían más detallados, pero la interpretación de los resultados sería más difícil. Para un valor de k mas bajo, esto se invierte, obtenemos algo más general y abarcador.\n",
        "- ¿Qué pasaría con los centros si tuviéramos muchos outliers en el análisis de cajas y bigotes?\n",
        "\n",
        "Si hay valores extremos (outliers) en el análisis de cajas y bigotes, los centroides obtenidos mediante el algoritmo K-Means podrían ser influenciados por ellos y no reflejar adecuadamente la mayoría de los datos. Esto puede afectar negativamente la interpretación y efectividad del agrupamiento resultante. Por lo tanto, es importante tratar los outliers antes de aplicar K-Means para obtener una agrupación más precisa y significativa.\n",
        "- ¿Qué puedes decir de los datos basándose en los centros?\n",
        "\n",
        "Como los datos se agrupan en los mismos 4 centros de nuestras variables podemos decir que estas son las necesarias para que los libros tengan altas reviews o éxito."
      ],
      "metadata": {
        "id": "8-rYNBbF1hML"
      }
    },
    {
      "cell_type": "code",
      "source": [
        "# Implementa el algoritmo de kmeans y justifica la elección del número de \n",
        "# clusters. Usa las variables numéricas.\n",
        "\n",
        "from sklearn.preprocessing import StandardScaler\n",
        "\n",
        "numeric_cols = ['Price','Reviews','User Rating']\n",
        "x = ndf.loc[:, numeric_cols]\n",
        "\n",
        "scaler = StandardScaler()\n",
        "x_norm = scaler.fit_transform(x)\n",
        "\n",
        "x_norm = pd.DataFrame(x_norm, columns=numeric_cols)\n",
        "x_norm.head()"
      ],
      "metadata": {
        "id": "b7oq0NSe1u_r",
        "colab": {
          "base_uri": "https://localhost:8080/",
          "height": 206
        },
        "outputId": "18551b45-5e60-4f04-bbe8-7f87d0257f0e"
      },
      "execution_count": 10,
      "outputs": [
        {
          "output_type": "execute_result",
          "data": {
            "text/plain": [
              "      Price   Reviews  User Rating\n",
              "0 -0.470810  0.460453     0.359990\n",
              "1  0.821609 -0.844786    -0.080978\n",
              "2  0.175400  0.599440     0.359990\n",
              "3 -0.655441  0.808050     0.359990\n",
              "4 -0.101547 -0.365880     0.800958"
            ],
            "text/html": [
              "\n",
              "  <div id=\"df-4423d9b6-2423-4919-a64e-a08c48c8f816\">\n",
              "    <div class=\"colab-df-container\">\n",
              "      <div>\n",
              "<style scoped>\n",
              "    .dataframe tbody tr th:only-of-type {\n",
              "        vertical-align: middle;\n",
              "    }\n",
              "\n",
              "    .dataframe tbody tr th {\n",
              "        vertical-align: top;\n",
              "    }\n",
              "\n",
              "    .dataframe thead th {\n",
              "        text-align: right;\n",
              "    }\n",
              "</style>\n",
              "<table border=\"1\" class=\"dataframe\">\n",
              "  <thead>\n",
              "    <tr style=\"text-align: right;\">\n",
              "      <th></th>\n",
              "      <th>Price</th>\n",
              "      <th>Reviews</th>\n",
              "      <th>User Rating</th>\n",
              "    </tr>\n",
              "  </thead>\n",
              "  <tbody>\n",
              "    <tr>\n",
              "      <th>0</th>\n",
              "      <td>-0.470810</td>\n",
              "      <td>0.460453</td>\n",
              "      <td>0.359990</td>\n",
              "    </tr>\n",
              "    <tr>\n",
              "      <th>1</th>\n",
              "      <td>0.821609</td>\n",
              "      <td>-0.844786</td>\n",
              "      <td>-0.080978</td>\n",
              "    </tr>\n",
              "    <tr>\n",
              "      <th>2</th>\n",
              "      <td>0.175400</td>\n",
              "      <td>0.599440</td>\n",
              "      <td>0.359990</td>\n",
              "    </tr>\n",
              "    <tr>\n",
              "      <th>3</th>\n",
              "      <td>-0.655441</td>\n",
              "      <td>0.808050</td>\n",
              "      <td>0.359990</td>\n",
              "    </tr>\n",
              "    <tr>\n",
              "      <th>4</th>\n",
              "      <td>-0.101547</td>\n",
              "      <td>-0.365880</td>\n",
              "      <td>0.800958</td>\n",
              "    </tr>\n",
              "  </tbody>\n",
              "</table>\n",
              "</div>\n",
              "      <button class=\"colab-df-convert\" onclick=\"convertToInteractive('df-4423d9b6-2423-4919-a64e-a08c48c8f816')\"\n",
              "              title=\"Convert this dataframe to an interactive table.\"\n",
              "              style=\"display:none;\">\n",
              "        \n",
              "  <svg xmlns=\"http://www.w3.org/2000/svg\" height=\"24px\"viewBox=\"0 0 24 24\"\n",
              "       width=\"24px\">\n",
              "    <path d=\"M0 0h24v24H0V0z\" fill=\"none\"/>\n",
              "    <path d=\"M18.56 5.44l.94 2.06.94-2.06 2.06-.94-2.06-.94-.94-2.06-.94 2.06-2.06.94zm-11 1L8.5 8.5l.94-2.06 2.06-.94-2.06-.94L8.5 2.5l-.94 2.06-2.06.94zm10 10l.94 2.06.94-2.06 2.06-.94-2.06-.94-.94-2.06-.94 2.06-2.06.94z\"/><path d=\"M17.41 7.96l-1.37-1.37c-.4-.4-.92-.59-1.43-.59-.52 0-1.04.2-1.43.59L10.3 9.45l-7.72 7.72c-.78.78-.78 2.05 0 2.83L4 21.41c.39.39.9.59 1.41.59.51 0 1.02-.2 1.41-.59l7.78-7.78 2.81-2.81c.8-.78.8-2.07 0-2.86zM5.41 20L4 18.59l7.72-7.72 1.47 1.35L5.41 20z\"/>\n",
              "  </svg>\n",
              "      </button>\n",
              "      \n",
              "  <style>\n",
              "    .colab-df-container {\n",
              "      display:flex;\n",
              "      flex-wrap:wrap;\n",
              "      gap: 12px;\n",
              "    }\n",
              "\n",
              "    .colab-df-convert {\n",
              "      background-color: #E8F0FE;\n",
              "      border: none;\n",
              "      border-radius: 50%;\n",
              "      cursor: pointer;\n",
              "      display: none;\n",
              "      fill: #1967D2;\n",
              "      height: 32px;\n",
              "      padding: 0 0 0 0;\n",
              "      width: 32px;\n",
              "    }\n",
              "\n",
              "    .colab-df-convert:hover {\n",
              "      background-color: #E2EBFA;\n",
              "      box-shadow: 0px 1px 2px rgba(60, 64, 67, 0.3), 0px 1px 3px 1px rgba(60, 64, 67, 0.15);\n",
              "      fill: #174EA6;\n",
              "    }\n",
              "\n",
              "    [theme=dark] .colab-df-convert {\n",
              "      background-color: #3B4455;\n",
              "      fill: #D2E3FC;\n",
              "    }\n",
              "\n",
              "    [theme=dark] .colab-df-convert:hover {\n",
              "      background-color: #434B5C;\n",
              "      box-shadow: 0px 1px 3px 1px rgba(0, 0, 0, 0.15);\n",
              "      filter: drop-shadow(0px 1px 2px rgba(0, 0, 0, 0.3));\n",
              "      fill: #FFFFFF;\n",
              "    }\n",
              "  </style>\n",
              "\n",
              "      <script>\n",
              "        const buttonEl =\n",
              "          document.querySelector('#df-4423d9b6-2423-4919-a64e-a08c48c8f816 button.colab-df-convert');\n",
              "        buttonEl.style.display =\n",
              "          google.colab.kernel.accessAllowed ? 'block' : 'none';\n",
              "\n",
              "        async function convertToInteractive(key) {\n",
              "          const element = document.querySelector('#df-4423d9b6-2423-4919-a64e-a08c48c8f816');\n",
              "          const dataTable =\n",
              "            await google.colab.kernel.invokeFunction('convertToInteractive',\n",
              "                                                     [key], {});\n",
              "          if (!dataTable) return;\n",
              "\n",
              "          const docLinkHtml = 'Like what you see? Visit the ' +\n",
              "            '<a target=\"_blank\" href=https://colab.research.google.com/notebooks/data_table.ipynb>data table notebook</a>'\n",
              "            + ' to learn more about interactive tables.';\n",
              "          element.innerHTML = '';\n",
              "          dataTable['output_type'] = 'display_data';\n",
              "          await google.colab.output.renderOutput(dataTable, element);\n",
              "          const docLink = document.createElement('div');\n",
              "          docLink.innerHTML = docLinkHtml;\n",
              "          element.appendChild(docLink);\n",
              "        }\n",
              "      </script>\n",
              "    </div>\n",
              "  </div>\n",
              "  "
            ]
          },
          "metadata": {},
          "execution_count": 10
        }
      ]
    },
    {
      "cell_type": "code",
      "source": [
        "for k in range(2,4):\n",
        "  model = KMeans(n_clusters = k)\n",
        "  groups = model.fit_predict(x)\n",
        "  centros = model.cluster_centers_\n",
        "  print(centros)"
      ],
      "metadata": {
        "colab": {
          "base_uri": "https://localhost:8080/"
        },
        "id": "M9oL1DSNcWCu",
        "outputId": "cda9e307-71e8-4a72-bbc1-534dde0e40b6"
      },
      "execution_count": 13,
      "outputs": [
        {
          "output_type": "stream",
          "name": "stdout",
          "text": [
            "[[1.02348485e+01 2.83367803e+04 4.65530303e+00]\n",
            " [1.40047847e+01 6.77954545e+03 4.60669856e+00]]\n",
            "[[1.06231884e+01 2.29664783e+04 4.68115942e+00]\n",
            " [1.40202020e+01 6.23506313e+03 4.60479798e+00]\n",
            " [1.16875000e+01 5.84903750e+04 4.41250000e+00]]\n"
          ]
        },
        {
          "output_type": "stream",
          "name": "stderr",
          "text": [
            "/usr/local/lib/python3.9/dist-packages/sklearn/cluster/_kmeans.py:870: FutureWarning: The default value of `n_init` will change from 10 to 'auto' in 1.4. Set the value of `n_init` explicitly to suppress the warning\n",
            "  warnings.warn(\n",
            "/usr/local/lib/python3.9/dist-packages/sklearn/cluster/_kmeans.py:870: FutureWarning: The default value of `n_init` will change from 10 to 'auto' in 1.4. Set the value of `n_init` explicitly to suppress the warning\n",
            "  warnings.warn(\n"
          ]
        }
      ]
    },
    {
      "cell_type": "code",
      "source": [
        "kmax   = 6\n",
        "grupos = range(2, kmax)\n",
        "wcss   = []\n",
        "sil_score = []\n",
        "\n",
        "for k in grupos:\n",
        "    model = KMeans(n_clusters=k, random_state = 47)\n",
        "\n",
        "    clusters = model.fit_predict(x_norm)\n",
        "\n",
        "    wcss.append(model.inertia_)\n",
        "\n",
        "    sil_score.append(silhouette_score(x_norm, clusters))\n",
        "\n",
        "fig, axs = plt.subplots(1, 2, figsize=(15, 6))\n",
        "\n",
        "axs[0].plot(grupos, wcss)\n",
        "axs[0].set_title('Método del codo')\n",
        "\n",
        "axs[1].plot(grupos, sil_score)\n",
        "axs[1].set_title('Silhouette Score')"
      ],
      "metadata": {
        "colab": {
          "base_uri": "https://localhost:8080/",
          "height": 549
        },
        "id": "pVWIElmDdqHt",
        "outputId": "4af1364e-ff1f-4b0f-da26-7658ad2dd3ba"
      },
      "execution_count": 14,
      "outputs": [
        {
          "output_type": "stream",
          "name": "stderr",
          "text": [
            "/usr/local/lib/python3.9/dist-packages/sklearn/cluster/_kmeans.py:870: FutureWarning: The default value of `n_init` will change from 10 to 'auto' in 1.4. Set the value of `n_init` explicitly to suppress the warning\n",
            "  warnings.warn(\n",
            "/usr/local/lib/python3.9/dist-packages/sklearn/cluster/_kmeans.py:870: FutureWarning: The default value of `n_init` will change from 10 to 'auto' in 1.4. Set the value of `n_init` explicitly to suppress the warning\n",
            "  warnings.warn(\n",
            "/usr/local/lib/python3.9/dist-packages/sklearn/cluster/_kmeans.py:870: FutureWarning: The default value of `n_init` will change from 10 to 'auto' in 1.4. Set the value of `n_init` explicitly to suppress the warning\n",
            "  warnings.warn(\n",
            "/usr/local/lib/python3.9/dist-packages/sklearn/cluster/_kmeans.py:870: FutureWarning: The default value of `n_init` will change from 10 to 'auto' in 1.4. Set the value of `n_init` explicitly to suppress the warning\n",
            "  warnings.warn(\n"
          ]
        },
        {
          "output_type": "execute_result",
          "data": {
            "text/plain": [
              "Text(0.5, 1.0, 'Silhouette Score')"
            ]
          },
          "metadata": {},
          "execution_count": 14
        },
        {
          "output_type": "display_data",
          "data": {
            "text/plain": [
              "<Figure size 1080x432 with 2 Axes>"
            ],
            "image/png": "[encoded data removed]"
          },
          "metadata": {}
        }
      ]
    },
    {
      "cell_type": "markdown",
      "source": [
        "Como se puede ver, en el silhouette el punto más alto es 4, por lo que nuestra observación en el número de clusters es correcta."
      ],
      "metadata": {
        "id": "dBR2TmnTdwl6"
      }
    },
    {
      "cell_type": "code",
      "source": [
        "model = KMeans(n_clusters=4, random_state=47)\n",
        "clusters = model.fit_predict(x_norm)\n",
        "\n",
        "ndf['Grupo'] = clusters.astype('str')\n",
        "ndf.head()"
      ],
      "metadata": {
        "colab": {
          "base_uri": "https://localhost:8080/",
          "height": 241
        },
        "id": "HFw0-OS8d4SO",
        "outputId": "1addcafe-493e-48a8-852f-085880a3031c"
      },
      "execution_count": 15,
      "outputs": [
        {
          "output_type": "stream",
          "name": "stderr",
          "text": [
            "/usr/local/lib/python3.9/dist-packages/sklearn/cluster/_kmeans.py:870: FutureWarning: The default value of `n_init` will change from 10 to 'auto' in 1.4. Set the value of `n_init` explicitly to suppress the warning\n",
            "  warnings.warn(\n"
          ]
        },
        {
          "output_type": "execute_result",
          "data": {
            "text/plain": [
              "   User Rating  Reviews  Price Grupo\n",
              "0          4.7    17350      8     0\n",
              "1          4.6     2052     22     2\n",
              "2          4.7    18979     15     0\n",
              "3          4.7    21424      6     0\n",
              "4          4.8     7665     12     2"
            ],
            "text/html": [
              "\n",
              "  <div id=\"df-cac1308f-2197-4dd8-b9ae-00b29816d78f\">\n",
              "    <div class=\"colab-df-container\">\n",
              "      <div>\n",
              "<style scoped>\n",
              "    .dataframe tbody tr th:only-of-type {\n",
              "        vertical-align: middle;\n",
              "    }\n",
              "\n",
              "    .dataframe tbody tr th {\n",
              "        vertical-align: top;\n",
              "    }\n",
              "\n",
              "    .dataframe thead th {\n",
              "        text-align: right;\n",
              "    }\n",
              "</style>\n",
              "<table border=\"1\" class=\"dataframe\">\n",
              "  <thead>\n",
              "    <tr style=\"text-align: right;\">\n",
              "      <th></th>\n",
              "      <th>User Rating</th>\n",
              "      <th>Reviews</th>\n",
              "      <th>Price</th>\n",
              "      <th>Grupo</th>\n",
              "    </tr>\n",
              "  </thead>\n",
              "  <tbody>\n",
              "    <tr>\n",
              "      <th>0</th>\n",
              "      <td>4.7</td>\n",
              "      <td>17350</td>\n",
              "      <td>8</td>\n",
              "      <td>0</td>\n",
              "    </tr>\n",
              "    <tr>\n",
              "      <th>1</th>\n",
              "      <td>4.6</td>\n",
              "      <td>2052</td>\n",
              "      <td>22</td>\n",
              "      <td>2</td>\n",
              "    </tr>\n",
              "    <tr>\n",
              "      <th>2</th>\n",
              "      <td>4.7</td>\n",
              "      <td>18979</td>\n",
              "      <td>15</td>\n",
              "      <td>0</td>\n",
              "    </tr>\n",
              "    <tr>\n",
              "      <th>3</th>\n",
              "      <td>4.7</td>\n",
              "      <td>21424</td>\n",
              "      <td>6</td>\n",
              "      <td>0</td>\n",
              "    </tr>\n",
              "    <tr>\n",
              "      <th>4</th>\n",
              "      <td>4.8</td>\n",
              "      <td>7665</td>\n",
              "      <td>12</td>\n",
              "      <td>2</td>\n",
              "    </tr>\n",
              "  </tbody>\n",
              "</table>\n",
              "</div>\n",
              "      <button class=\"colab-df-convert\" onclick=\"convertToInteractive('df-cac1308f-2197-4dd8-b9ae-00b29816d78f')\"\n",
              "              title=\"Convert this dataframe to an interactive table.\"\n",
              "              style=\"display:none;\">\n",
              "        \n",
              "  <svg xmlns=\"http://www.w3.org/2000/svg\" height=\"24px\"viewBox=\"0 0 24 24\"\n",
              "       width=\"24px\">\n",
              "    <path d=\"M0 0h24v24H0V0z\" fill=\"none\"/>\n",
              "    <path d=\"M18.56 5.44l.94 2.06.94-2.06 2.06-.94-2.06-.94-.94-2.06-.94 2.06-2.06.94zm-11 1L8.5 8.5l.94-2.06 2.06-.94-2.06-.94L8.5 2.5l-.94 2.06-2.06.94zm10 10l.94 2.06.94-2.06 2.06-.94-2.06-.94-.94-2.06-.94 2.06-2.06.94z\"/><path d=\"M17.41 7.96l-1.37-1.37c-.4-.4-.92-.59-1.43-.59-.52 0-1.04.2-1.43.59L10.3 9.45l-7.72 7.72c-.78.78-.78 2.05 0 2.83L4 21.41c.39.39.9.59 1.41.59.51 0 1.02-.2 1.41-.59l7.78-7.78 2.81-2.81c.8-.78.8-2.07 0-2.86zM5.41 20L4 18.59l7.72-7.72 1.47 1.35L5.41 20z\"/>\n",
              "  </svg>\n",
              "      </button>\n",
              "      \n",
              "  <style>\n",
              "    .colab-df-container {\n",
              "      display:flex;\n",
              "      flex-wrap:wrap;\n",
              "      gap: 12px;\n",
              "    }\n",
              "\n",
              "    .colab-df-convert {\n",
              "      background-color: #E8F0FE;\n",
              "      border: none;\n",
              "      border-radius: 50%;\n",
              "      cursor: pointer;\n",
              "      display: none;\n",
              "      fill: #1967D2;\n",
              "      height: 32px;\n",
              "      padding: 0 0 0 0;\n",
              "      width: 32px;\n",
              "    }\n",
              "\n",
              "    .colab-df-convert:hover {\n",
              "      background-color: #E2EBFA;\n",
              "      box-shadow: 0px 1px 2px rgba(60, 64, 67, 0.3), 0px 1px 3px 1px rgba(60, 64, 67, 0.15);\n",
              "      fill: #174EA6;\n",
              "    }\n",
              "\n",
              "    [theme=dark] .colab-df-convert {\n",
              "      background-color: #3B4455;\n",
              "      fill: #D2E3FC;\n",
              "    }\n",
              "\n",
              "    [theme=dark] .colab-df-convert:hover {\n",
              "      background-color: #434B5C;\n",
              "      box-shadow: 0px 1px 3px 1px rgba(0, 0, 0, 0.15);\n",
              "      filter: drop-shadow(0px 1px 2px rgba(0, 0, 0, 0.3));\n",
              "      fill: #FFFFFF;\n",
              "    }\n",
              "  </style>\n",
              "\n",
              "      <script>\n",
              "        const buttonEl =\n",
              "          document.querySelector('#df-cac1308f-2197-4dd8-b9ae-00b29816d78f button.colab-df-convert');\n",
              "        buttonEl.style.display =\n",
              "          google.colab.kernel.accessAllowed ? 'block' : 'none';\n",
              "\n",
              "        async function convertToInteractive(key) {\n",
              "          const element = document.querySelector('#df-cac1308f-2197-4dd8-b9ae-00b29816d78f');\n",
              "          const dataTable =\n",
              "            await google.colab.kernel.invokeFunction('convertToInteractive',\n",
              "                                                     [key], {});\n",
              "          if (!dataTable) return;\n",
              "\n",
              "          const docLinkHtml = 'Like what you see? Visit the ' +\n",
              "            '<a target=\"_blank\" href=https://colab.research.google.com/notebooks/data_table.ipynb>data table notebook</a>'\n",
              "            + ' to learn more about interactive tables.';\n",
              "          element.innerHTML = '';\n",
              "          dataTable['output_type'] = 'display_data';\n",
              "          await google.colab.output.renderOutput(dataTable, element);\n",
              "          const docLink = document.createElement('div');\n",
              "          docLink.innerHTML = docLinkHtml;\n",
              "          element.appendChild(docLink);\n",
              "        }\n",
              "      </script>\n",
              "    </div>\n",
              "  </div>\n",
              "  "
            ]
          },
          "metadata": {},
          "execution_count": 15
        }
      ]
    },
    {
      "cell_type": "code",
      "source": [
        "sns.pairplot(data=ndf, hue='Grupo', palette='Set2')\n",
        "plt.suptitle('4 grupos de libros', y=1.05)"
      ],
      "metadata": {
        "colab": {
          "base_uri": "https://localhost:8080/",
          "height": 604
        },
        "id": "javJA6Vmd9sU",
        "outputId": "57128774-3ed9-4b9a-cad5-35044e70fc35"
      },
      "execution_count": 16,
      "outputs": [
        {
          "output_type": "execute_result",
          "data": {
            "text/plain": [
              "Text(0.5, 1.05, '4 grupos de libros')"
            ]
          },
          "metadata": {},
          "execution_count": 16
        },
        {
          "output_type": "display_data",
          "data": {
            "text/plain": [
              "<Figure size 586.6x540 with 12 Axes>"
            ],
            "image/png": "[encoded data removed]"
          },
          "metadata": {}
        }
      ]
    },
    {
      "cell_type": "markdown",
      "source": [
        "Analiza las características de cada grupo. ¿Qué nombre le pondrías a cada segmento?"
      ],
      "metadata": {
        "id": "ijrjXbDG11ci"
      }
    },
    {
      "cell_type": "markdown",
      "source": [
        "-El grupo 0 al ser en el que se encuentran los libros con mayor puntuación en las reseñas, podría llamarse \"Mejor votados\".\n",
        "\n",
        "-El grupo 1 puede ser llamado \"Más populares\" pues tienen gran cantidad de \n",
        "reseñas, pero éstas son variadas.\n",
        "\n",
        "-El grupo 2, al tener una poca cantidad de reseñas, y ser positivas, podrá\n",
        "estar en la categoría de \"Aclamados por su audiencia\".\n",
        "\n",
        "-Finalmente el grupo 3 pueden ser llamados \"Indies\" pues tienen pocas reseñas\n",
        "pero con altas calificaciones."
      ],
      "metadata": {
        "id": "c3iYipld15Kr"
      }
    },
    {
      "cell_type": "code",
      "source": [
        "# Haz un análisis por grupo para determinar las características que los hace \n",
        "# únicos. Ten en cuenta todas las variables numéricas.\n",
        "\n",
        "ndf.groupby('Grupo').describe()"
      ],
      "metadata": {
        "id": "2y6G2hb81zjX",
        "colab": {
          "base_uri": "https://localhost:8080/",
          "height": 267
        },
        "outputId": "4cb0d8da-4471-4009-d639-62baad613d91"
      },
      "execution_count": 19,
      "outputs": [
        {
          "output_type": "execute_result",
          "data": {
            "text/plain": [
              "      User Rating                                                Reviews  \\\n",
              "            count      mean       std  min  25%  50%    75%  max   count   \n",
              "Grupo                                                                      \n",
              "0           130.0  4.693846  0.184161  4.0  4.6  4.7  4.800  4.9   130.0   \n",
              "1            84.0  4.232143  0.208933  3.3  4.1  4.3  4.400  4.4    84.0   \n",
              "2           310.0  4.698065  0.118770  4.5  4.6  4.7  4.800  4.9   310.0   \n",
              "3            26.0  4.538462  0.144435  4.3  4.5  4.5  4.575  4.9    26.0   \n",
              "\n",
              "                     ...                     Price                        \\\n",
              "               mean  ...       75%      max  count       mean        std   \n",
              "Grupo                ...                                                   \n",
              "0      27444.646154  ...  27008.75  87841.0  130.0   9.084615   3.833825   \n",
              "1       8631.666667  ...  11616.00  47265.0   84.0  12.416667   5.013736   \n",
              "2       6753.977419  ...   9372.00  19735.0  310.0  11.900000   6.819423   \n",
              "3       7219.538462  ...   8580.00  35799.0   26.0  49.692308  18.750508   \n",
              "\n",
              "                                       \n",
              "        min    25%   50%   75%    max  \n",
              "Grupo                                  \n",
              "0       0.0   6.00   8.0  11.0   18.0  \n",
              "1       2.0   8.75  13.0  17.0   22.0  \n",
              "2       0.0   7.00  10.0  16.0   30.0  \n",
              "3      32.0  40.00  46.0  46.0  105.0  \n",
              "\n",
              "[4 rows x 24 columns]"
            ],
            "text/html": [
              "\n",
              "  <div id=\"df-59f01da2-4f23-4216-864d-c5512bd570c3\">\n",
              "    <div class=\"colab-df-container\">\n",
              "      <div>\n",
              "<style scoped>\n",
              "    .dataframe tbody tr th:only-of-type {\n",
              "        vertical-align: middle;\n",
              "    }\n",
              "\n",
              "    .dataframe tbody tr th {\n",
              "        vertical-align: top;\n",
              "    }\n",
              "\n",
              "    .dataframe thead tr th {\n",
              "        text-align: left;\n",
              "    }\n",
              "\n",
              "    .dataframe thead tr:last-of-type th {\n",
              "        text-align: right;\n",
              "    }\n",
              "</style>\n",
              "<table border=\"1\" class=\"dataframe\">\n",
              "  <thead>\n",
              "    <tr>\n",
              "      <th></th>\n",
              "      <th colspan=\"8\" halign=\"left\">User Rating</th>\n",
              "      <th colspan=\"5\" halign=\"left\">Reviews</th>\n",
              "      <th colspan=\"8\" halign=\"left\">Price</th>\n",
              "    </tr>\n",
              "    <tr>\n",
              "      <th></th>\n",
              "      <th>count</th>\n",
              "      <th>mean</th>\n",
              "      <th>std</th>\n",
              "      <th>min</th>\n",
              "      <th>25%</th>\n",
              "      <th>50%</th>\n",
              "      <th>75%</th>\n",
              "      <th>max</th>\n",
              "      <th>count</th>\n",
              "      <th>mean</th>\n",
              "      <th>...</th>\n",
              "      <th>75%</th>\n",
              "      <th>max</th>\n",
              "      <th>count</th>\n",
              "      <th>mean</th>\n",
              "      <th>std</th>\n",
              "      <th>min</th>\n",
              "      <th>25%</th>\n",
              "      <th>50%</th>\n",
              "      <th>75%</th>\n",
              "      <th>max</th>\n",
              "    </tr>\n",
              "    <tr>\n",
              "      <th>Grupo</th>\n",
              "      <th></th>\n",
              "      <th></th>\n",
              "      <th></th>\n",
              "      <th></th>\n",
              "      <th></th>\n",
              "      <th></th>\n",
              "      <th></th>\n",
              "      <th></th>\n",
              "      <th></th>\n",
              "      <th></th>\n",
              "      <th></th>\n",
              "      <th></th>\n",
              "      <th></th>\n",
              "      <th></th>\n",
              "      <th></th>\n",
              "      <th></th>\n",
              "      <th></th>\n",
              "      <th></th>\n",
              "      <th></th>\n",
              "      <th></th>\n",
              "      <th></th>\n",
              "    </tr>\n",
              "  </thead>\n",
              "  <tbody>\n",
              "    <tr>\n",
              "      <th>0</th>\n",
              "      <td>130.0</td>\n",
              "      <td>4.693846</td>\n",
              "      <td>0.184161</td>\n",
              "      <td>4.0</td>\n",
              "      <td>4.6</td>\n",
              "      <td>4.7</td>\n",
              "      <td>4.800</td>\n",
              "      <td>4.9</td>\n",
              "      <td>130.0</td>\n",
              "      <td>27444.646154</td>\n",
              "      <td>...</td>\n",
              "      <td>27008.75</td>\n",
              "      <td>87841.0</td>\n",
              "      <td>130.0</td>\n",
              "      <td>9.084615</td>\n",
              "      <td>3.833825</td>\n",
              "      <td>0.0</td>\n",
              "      <td>6.00</td>\n",
              "      <td>8.0</td>\n",
              "      <td>11.0</td>\n",
              "      <td>18.0</td>\n",
              "    </tr>\n",
              "    <tr>\n",
              "      <th>1</th>\n",
              "      <td>84.0</td>\n",
              "      <td>4.232143</td>\n",
              "      <td>0.208933</td>\n",
              "      <td>3.3</td>\n",
              "      <td>4.1</td>\n",
              "      <td>4.3</td>\n",
              "      <td>4.400</td>\n",
              "      <td>4.4</td>\n",
              "      <td>84.0</td>\n",
              "      <td>8631.666667</td>\n",
              "      <td>...</td>\n",
              "      <td>11616.00</td>\n",
              "      <td>47265.0</td>\n",
              "      <td>84.0</td>\n",
              "      <td>12.416667</td>\n",
              "      <td>5.013736</td>\n",
              "      <td>2.0</td>\n",
              "      <td>8.75</td>\n",
              "      <td>13.0</td>\n",
              "      <td>17.0</td>\n",
              "      <td>22.0</td>\n",
              "    </tr>\n",
              "    <tr>\n",
              "      <th>2</th>\n",
              "      <td>310.0</td>\n",
              "      <td>4.698065</td>\n",
              "      <td>0.118770</td>\n",
              "      <td>4.5</td>\n",
              "      <td>4.6</td>\n",
              "      <td>4.7</td>\n",
              "      <td>4.800</td>\n",
              "      <td>4.9</td>\n",
              "      <td>310.0</td>\n",
              "      <td>6753.977419</td>\n",
              "      <td>...</td>\n",
              "      <td>9372.00</td>\n",
              "      <td>19735.0</td>\n",
              "      <td>310.0</td>\n",
              "      <td>11.900000</td>\n",
              "      <td>6.819423</td>\n",
              "      <td>0.0</td>\n",
              "      <td>7.00</td>\n",
              "      <td>10.0</td>\n",
              "      <td>16.0</td>\n",
              "      <td>30.0</td>\n",
              "    </tr>\n",
              "    <tr>\n",
              "      <th>3</th>\n",
              "      <td>26.0</td>\n",
              "      <td>4.538462</td>\n",
              "      <td>0.144435</td>\n",
              "      <td>4.3</td>\n",
              "      <td>4.5</td>\n",
              "      <td>4.5</td>\n",
              "      <td>4.575</td>\n",
              "      <td>4.9</td>\n",
              "      <td>26.0</td>\n",
              "      <td>7219.538462</td>\n",
              "      <td>...</td>\n",
              "      <td>8580.00</td>\n",
              "      <td>35799.0</td>\n",
              "      <td>26.0</td>\n",
              "      <td>49.692308</td>\n",
              "      <td>18.750508</td>\n",
              "      <td>32.0</td>\n",
              "      <td>40.00</td>\n",
              "      <td>46.0</td>\n",
              "      <td>46.0</td>\n",
              "      <td>105.0</td>\n",
              "    </tr>\n",
              "  </tbody>\n",
              "</table>\n",
              "<p>4 rows × 24 columns</p>\n",
              "</div>\n",
              "      <button class=\"colab-df-convert\" onclick=\"convertToInteractive('df-59f01da2-4f23-4216-864d-c5512bd570c3')\"\n",
              "              title=\"Convert this dataframe to an interactive table.\"\n",
              "              style=\"display:none;\">\n",
              "        \n",
              "  <svg xmlns=\"http://www.w3.org/2000/svg\" height=\"24px\"viewBox=\"0 0 24 24\"\n",
              "       width=\"24px\">\n",
              "    <path d=\"M0 0h24v24H0V0z\" fill=\"none\"/>\n",
              "    <path d=\"M18.56 5.44l.94 2.06.94-2.06 2.06-.94-2.06-.94-.94-2.06-.94 2.06-2.06.94zm-11 1L8.5 8.5l.94-2.06 2.06-.94-2.06-.94L8.5 2.5l-.94 2.06-2.06.94zm10 10l.94 2.06.94-2.06 2.06-.94-2.06-.94-.94-2.06-.94 2.06-2.06.94z\"/><path d=\"M17.41 7.96l-1.37-1.37c-.4-.4-.92-.59-1.43-.59-.52 0-1.04.2-1.43.59L10.3 9.45l-7.72 7.72c-.78.78-.78 2.05 0 2.83L4 21.41c.39.39.9.59 1.41.59.51 0 1.02-.2 1.41-.59l7.78-7.78 2.81-2.81c.8-.78.8-2.07 0-2.86zM5.41 20L4 18.59l7.72-7.72 1.47 1.35L5.41 20z\"/>\n",
              "  </svg>\n",
              "      </button>\n",
              "      \n",
              "  <style>\n",
              "    .colab-df-container {\n",
              "      display:flex;\n",
              "      flex-wrap:wrap;\n",
              "      gap: 12px;\n",
              "    }\n",
              "\n",
              "    .colab-df-convert {\n",
              "      background-color: #E8F0FE;\n",
              "      border: none;\n",
              "      border-radius: 50%;\n",
              "      cursor: pointer;\n",
              "      display: none;\n",
              "      fill: #1967D2;\n",
              "      height: 32px;\n",
              "      padding: 0 0 0 0;\n",
              "      width: 32px;\n",
              "    }\n",
              "\n",
              "    .colab-df-convert:hover {\n",
              "      background-color: #E2EBFA;\n",
              "      box-shadow: 0px 1px 2px rgba(60, 64, 67, 0.3), 0px 1px 3px 1px rgba(60, 64, 67, 0.15);\n",
              "      fill: #174EA6;\n",
              "    }\n",
              "\n",
              "    [theme=dark] .colab-df-convert {\n",
              "      background-color: #3B4455;\n",
              "      fill: #D2E3FC;\n",
              "    }\n",
              "\n",
              "    [theme=dark] .colab-df-convert:hover {\n",
              "      background-color: #434B5C;\n",
              "      box-shadow: 0px 1px 3px 1px rgba(0, 0, 0, 0.15);\n",
              "      filter: drop-shadow(0px 1px 2px rgba(0, 0, 0, 0.3));\n",
              "      fill: #FFFFFF;\n",
              "    }\n",
              "  </style>\n",
              "\n",
              "      <script>\n",
              "        const buttonEl =\n",
              "          document.querySelector('#df-59f01da2-4f23-4216-864d-c5512bd570c3 button.colab-df-convert');\n",
              "        buttonEl.style.display =\n",
              "          google.colab.kernel.accessAllowed ? 'block' : 'none';\n",
              "\n",
              "        async function convertToInteractive(key) {\n",
              "          const element = document.querySelector('#df-59f01da2-4f23-4216-864d-c5512bd570c3');\n",
              "          const dataTable =\n",
              "            await google.colab.kernel.invokeFunction('convertToInteractive',\n",
              "                                                     [key], {});\n",
              "          if (!dataTable) return;\n",
              "\n",
              "          const docLinkHtml = 'Like what you see? Visit the ' +\n",
              "            '<a target=\"_blank\" href=https://colab.research.google.com/notebooks/data_table.ipynb>data table notebook</a>'\n",
              "            + ' to learn more about interactive tables.';\n",
              "          element.innerHTML = '';\n",
              "          dataTable['output_type'] = 'display_data';\n",
              "          await google.colab.output.renderOutput(dataTable, element);\n",
              "          const docLink = document.createElement('div');\n",
              "          docLink.innerHTML = docLinkHtml;\n",
              "          element.appendChild(docLink);\n",
              "        }\n",
              "      </script>\n",
              "    </div>\n",
              "  </div>\n",
              "  "
            ]
          },
          "metadata": {},
          "execution_count": 19
        }
      ]
    },
    {
      "cell_type": "code",
      "source": [
        "# Grafica los grupos con un pairplot y con un scatterplot en 3D \n",
        "# (si es necesario). Analiza las características de cada grupo.\n",
        "import plotly.express as px\n",
        "\n",
        "fig = px.scatter_3d(ndf, x = 'User Rating', y = 'Price', \n",
        "                    z = 'Reviews', \n",
        "                    title='4 grupos de libros',\n",
        "                    color='Grupo',  \n",
        "                    color_discrete_sequence=px.colors.qualitative.D3)\n",
        "fig.show()"
      ],
      "metadata": {
        "id": "hFfvvzbX1-bS",
        "colab": {
          "base_uri": "https://localhost:8080/",
          "height": 542
        },
        "outputId": "f0f8a126-f8a0-49d0-af9f-5d6902fa0581"
      },
      "execution_count": 20,
      "outputs": [
        {
          "output_type": "display_data",
          "data": {
            "text/html": [
              "<html>\n",
              "<head><meta charset=\"utf-8\" /></head>\n",
              "<body>\n",
              "    <div>            <script src=\"https://cdnjs.cloudflare.com/ajax/libs/mathjax/2.7.5/MathJax.js?config=TeX-AMS-MML_SVG\"></script><script type=\"text/javascript\">if (window.MathJax && window.MathJax.Hub && window.MathJax.Hub.Config) {window.MathJax.Hub.Config({SVG: {font: \"STIX-Web\"}});}</script>                <script type=\"text/javascript\">window.PlotlyConfig = {MathJaxConfig: 'local'};</script>\n",
              "        <script src=\"https://cdn.plot.ly/plotly-2.18.2.min.js\"></script>                <div id=\"ca3e9220-f768-4746-977e-f1cb05cf1e3b\" class=\"plotly-graph-div\" style=\"height:525px; width:100%;\"></div>            <script type=\"text/javascript\">                                    window.PLOTLYENV=window.PLOTLYENV || {};                                    if (document.getElementById(\"ca3e9220-f768-4746-977e-f1cb05cf1e3b\")) {                    Plotly.newPlot(                        \"ca3e9220-f768-4746-977e-f1cb05cf1e3b\",                        [{\"hovertemplate\":\"Grupo=0<br>User Rating=%{x}<br>Price=%{y}<br>Reviews=%{z}<extra></extra>\",\"legendgroup\":\"0\",\"marker\":{\"color\":\"#1F77B4\",\"symbol\":\"circle\"},\"mode\":\"markers\",\"name\":\"0\",\"scene\":\"scene\",\"showlegend\":true,\"x\":[4.7,4.7,4.7,4.7,4.6,4.6,4.6,4.6,4.8,4.8,4.7,4.7,4.7,4.6,4.6,4.5,4.7,4.7,4.4,4.5,4.7,4.7,4.7,4.7,4.7,4.6,4.6,4.0,4.0,4.0,4.4,4.7,4.7,4.7,4.7,4.7,4.8,4.8,4.9,4.9,4.9,4.9,4.9,4.9,4.5,4.8,4.8,4.7,4.7,4.7,4.5,4.5,4.5,4.9,4.9,4.9,4.9,4.9,4.9,4.9,4.9,4.6,4.6,4.6,4.8,4.8,4.5,4.8,4.8,4.8,4.8,4.8,4.6,4.6,4.8,4.8,4.7,4.7,4.7,4.7,4.7,4.7,4.7,4.7,4.7,4.7,4.1,4.1,4.3,4.7,4.7,4.7,4.5,4.5,4.5,4.5,4.7,4.8,4.8,4.6,4.6,4.5,4.6,4.6,4.6,4.9,4.9,4.9,4.9,4.9,4.9,4.9,4.8,4.8,4.8,4.8,4.8,4.8,4.8,4.8,4.8,4.8,4.8,4.8,4.8,4.8,4.8,4.8,4.8,4.8],\"y\":[8,15,6,15,8,8,14,14,11,11,11,11,11,15,15,6,15,15,7,11,4,4,4,4,4,12,12,10,10,9,14,11,11,11,11,11,4,4,8,8,8,8,8,8,12,5,5,8,8,8,8,8,8,8,8,8,8,8,8,8,8,11,12,12,6,6,18,8,8,8,8,8,6,6,12,12,13,13,7,13,6,6,6,6,6,6,18,7,7,14,8,8,11,11,11,11,9,11,11,8,8,14,15,15,15,5,5,5,5,5,5,5,4,4,0,0,0,0,7,16,16,16,13,16,15,9,9,9,9,9],\"z\":[17350,18979,21424,19699,23848,23848,36348,36348,61133,61133,22614,22614,22614,27098,27098,17684,28729,28729,23631,20262,17323,17323,17323,17323,17323,22288,22288,57271,57271,57271,25624,25001,25001,25001,25001,25001,16643,16643,19576,19576,19576,19576,19576,19576,25706,18613,18613,17739,17739,17739,26741,26741,26741,21834,21834,21834,21834,21834,21834,21834,21834,21930,22536,22536,23047,23047,23114,25554,25554,25554,25554,25554,23148,23148,23358,23358,50482,50482,50482,50482,23308,23308,23308,23308,23308,23308,79446,79446,29442,32122,32122,32122,22641,22641,22641,22641,39459,49288,49288,19720,19720,27536,26490,26490,26490,19546,19546,19546,19546,19546,19546,19546,30183,30183,26234,26234,26234,26234,26234,29673,29673,29673,29673,29673,87841,21625,21625,21625,21625,21625],\"type\":\"scatter3d\"},{\"hovertemplate\":\"Grupo=2<br>User Rating=%{x}<br>Price=%{y}<br>Reviews=%{z}<extra></extra>\",\"legendgroup\":\"2\",\"marker\":{\"color\":\"#FF7F0E\",\"symbol\":\"circle\"},\"mode\":\"markers\",\"name\":\"2\",\"scene\":\"scene\",\"showlegend\":true,\"x\":[4.6,4.8,4.7,4.7,4.6,4.5,4.6,4.5,4.6,4.5,4.8,4.6,4.6,4.7,4.6,4.6,4.8,4.7,4.8,4.7,4.7,4.7,4.6,4.5,4.9,4.9,4.8,4.6,4.8,4.5,4.7,4.7,4.7,4.7,4.8,4.8,4.6,4.6,4.8,4.6,4.8,4.8,4.8,4.8,4.6,4.6,4.8,4.8,4.8,4.6,4.6,4.7,4.8,4.9,4.9,4.9,4.9,4.9,4.9,4.9,4.8,4.6,4.5,4.5,4.5,4.5,4.7,4.7,4.7,4.6,4.6,4.7,4.7,4.6,4.6,4.6,4.5,4.6,4.8,4.8,4.8,4.8,4.8,4.6,4.6,4.8,4.6,4.6,4.5,4.5,4.5,4.5,4.8,4.8,4.8,4.9,4.9,4.6,4.8,4.8,4.9,4.9,4.9,4.9,4.7,4.8,4.7,4.7,4.8,4.8,4.8,4.9,4.7,4.8,4.6,4.6,4.8,4.6,4.5,4.6,4.5,4.6,4.7,4.7,4.6,4.6,4.8,4.8,4.5,4.5,4.5,4.9,4.6,4.6,4.6,4.6,4.6,4.5,4.5,4.8,4.5,4.9,4.5,4.8,4.5,4.7,4.8,4.6,4.6,4.6,4.8,4.8,4.6,4.7,4.6,4.9,4.8,4.6,4.6,4.5,4.6,4.6,4.7,4.7,4.8,4.8,4.8,4.8,4.7,4.8,4.6,4.6,4.7,4.7,4.9,4.9,4.8,4.8,4.6,4.7,4.7,4.8,4.7,4.6,4.6,4.6,4.9,4.5,4.6,4.7,4.7,4.7,4.7,4.7,4.8,4.6,4.6,4.6,4.6,4.7,4.7,4.7,4.6,4.7,4.7,4.7,4.8,4.8,4.8,4.8,4.7,4.8,4.8,4.8,4.8,4.6,4.6,4.6,4.6,4.6,4.6,4.8,4.7,4.7,4.7,4.7,4.8,4.8,4.5,4.7,4.6,4.8,4.8,4.8,4.8,4.8,4.8,4.8,4.8,4.7,4.7,4.7,4.7,4.8,4.8,4.9,4.8,4.8,4.9,4.8,4.5,4.8,4.6,4.8,4.8,4.8,4.5,4.8,4.8,4.6,4.6,4.6,4.8,4.6,4.8,4.7,4.7,4.7,4.7,4.8,4.7,4.6,4.6,4.6,4.9,4.9,4.9,4.9,4.7,4.7,4.6,4.6,4.5,4.5,4.6,4.6,4.6,4.6,4.6,4.8,4.5,4.7,4.5,4.9,4.8,4.7,4.5,4.6,4.7,4.7,4.8,4.8,4.8,4.6,4.5,4.9,4.7,4.7,4.7,4.7],\"y\":[22,12,30,3,2,5,17,4,6,8,13,9,5,9,5,11,24,21,15,13,13,18,13,8,5,5,0,4,18,28,16,14,14,14,4,5,11,11,10,4,5,5,5,5,17,15,0,15,22,5,6,13,12,6,8,4,4,8,8,6,20,5,16,1,9,9,7,18,9,8,8,15,0,5,5,5,20,16,4,4,4,4,4,12,11,9,6,6,14,14,14,14,5,5,5,7,7,10,7,11,30,18,30,22,9,4,10,10,22,15,15,17,17,7,7,20,12,0,12,17,12,25,10,10,6,5,6,8,4,4,4,13,4,4,4,4,4,13,21,15,18,0,7,16,20,11,27,10,10,10,16,11,10,9,14,22,7,13,13,9,20,20,5,5,2,27,27,27,9,4,20,7,9,9,12,12,20,20,10,9,11,16,25,17,20,20,6,18,13,28,28,28,28,28,12,24,24,24,24,16,16,16,9,10,10,17,11,12,8,8,21,0,9,9,9,6,6,6,6,6,9,0,14,14,9,16,5,5,14,10,13,11,6,6,8,7,14,30,30,13,9,9,9,7,7,20,14,13,5,10,8,8,12,17,14,21,18,5,5,21,12,14,12,0,10,9,7,10,10,12,10,16,16,16,10,10,10,10,16,15,19,19,9,23,23,23,23,23,21,21,15,9,5,11,4,9,12,18,17,14,13,14,13,12,15,8,8,8,8,8],\"z\":[2052,7665,19735,5983,460,5153,5013,2313,2925,2426,9198,15921,798,9374,5360,1909,1296,615,11113,10070,10070,3729,9769,471,14344,14344,4505,10369,16244,2884,4761,1542,1542,1542,4022,3871,4866,4866,1329,1541,10922,10922,10922,10922,2137,1651,6812,3837,6540,7955,37,15845,3181,5062,4786,7235,7235,12619,9089,5470,5118,2134,2525,720,6346,6346,5505,5505,5413,10721,10721,4370,3642,5594,5594,5594,408,4799,14038,14038,14038,14038,14038,7660,1365,9568,1636,10141,3457,3457,3457,3457,8837,8837,8837,7038,7038,5972,5476,4148,19622,7758,3146,10052,3564,1930,15779,15779,3776,3490,3490,2812,4896,9737,1320,5299,7062,978,4748,8393,11391,8634,9342,9342,10927,5235,8916,2507,3673,3673,3673,11881,6990,6990,6990,6990,6990,6132,3014,3828,2752,1884,8491,9867,1386,10199,2926,5542,5542,5542,5347,7866,5680,5178,8093,3192,6169,3163,3163,1831,10426,10426,10820,10820,548,16990,16990,16990,3503,4757,10009,10009,1985,1985,7150,3836,7802,7802,3619,9366,1265,3923,973,220,7827,7827,9382,1583,1907,3477,3477,3477,3477,3477,1680,9325,9325,9325,9325,4725,4725,4725,2580,11813,11813,3536,6600,12361,8081,8081,4633,2774,8922,8922,8922,3207,3207,3207,3207,3207,803,5836,7747,7747,7251,7251,5249,5249,13609,8587,11098,9947,13871,13871,13871,13871,6982,16949,16949,9289,9289,9289,4028,4628,4628,5396,4506,1655,7861,6247,10101,5898,2744,2663,3428,2876,3601,9784,9784,10795,2186,1204,2091,2122,4290,5487,6377,1463,11550,3796,9030,7508,7508,7508,8842,8842,8842,8842,6169,7034,11034,11034,7932,1904,11128,11128,11128,11128,4360,2282,438,11676,2586,5956,6108,4585,8958,5492,9292,1873,8170,13779,9967,6669,10760,9413,14331,14331,14331,14331],\"type\":\"scatter3d\"},{\"hovertemplate\":\"Grupo=1<br>User Rating=%{x}<br>Price=%{y}<br>Reviews=%{z}<extra></extra>\",\"legendgroup\":\"1\",\"marker\":{\"color\":\"#2CA02C\",\"symbol\":\"circle\"},\"mode\":\"markers\",\"name\":\"1\",\"scene\":\"scene\",\"showlegend\":true,\"x\":[4.4,4.4,3.9,4.3,4.2,4.3,4.4,4.3,4.2,4.3,4.4,3.8,3.8,4.2,4.4,4.4,3.6,4.0,4.4,4.4,4.3,4.3,4.4,4.1,4.4,4.4,4.4,4.1,4.2,4.4,4.2,4.3,4.3,4.3,4.1,4.0,4.0,4.0,4.0,4.0,4.0,4.0,4.0,4.0,4.4,4.4,4.3,4.3,4.2,3.3,4.3,4.3,4.3,4.4,4.1,4.0,4.4,4.4,3.9,3.9,4.4,4.4,4.4,4.3,4.3,4.4,4.4,4.4,4.2,4.3,4.4,4.3,4.3,4.4,4.4,4.3,4.3,4.3,4.3,4.4,4.4,4.4,4.4,4.2],\"y\":[11,6,13,13,14,8,13,8,4,14,2,14,14,6,9,9,19,12,14,14,16,9,21,14,13,13,6,10,13,6,12,13,10,10,6,17,17,17,17,17,17,17,17,17,20,20,22,21,14,12,6,6,13,11,15,11,2,2,20,20,7,7,7,7,7,13,13,18,19,16,17,18,18,6,9,11,11,12,20,9,6,6,18,11],\"z\":[12643,2951,6310,12159,491,6143,4642,1924,2094,956,6042,47265,47265,13677,1555,1215,14982,23973,15526,15526,5272,7153,4571,29651,7396,7396,7550,1467,1649,3113,4519,18904,13616,13616,2272,5069,5069,5069,5069,5069,5069,5069,5069,5069,637,637,2314,4587,1789,9372,13061,13061,3523,440,2023,1859,10559,10559,33844,33844,11616,11616,11616,7368,7368,4247,4247,6222,8747,3759,7058,10191,14493,3759,3503,3319,3319,5977,6740,3341,7497,7497,17044,1302],\"type\":\"scatter3d\"},{\"hovertemplate\":\"Grupo=3<br>User Rating=%{x}<br>Price=%{y}<br>Reviews=%{z}<extra></extra>\",\"legendgroup\":\"3\",\"marker\":{\"color\":\"#D62728\",\"symbol\":\"circle\"},\"mode\":\"markers\",\"name\":\"3\",\"scene\":\"scene\",\"showlegend\":true,\"x\":[4.6,4.5,4.5,4.5,4.9,4.8,4.5,4.5,4.5,4.5,4.5,4.5,4.5,4.5,4.5,4.5,4.7,4.7,4.4,4.4,4.4,4.4,4.4,4.3,4.7,4.8],\"y\":[32,105,105,32,54,52,46,46,46,46,46,46,46,46,46,46,39,53,40,40,40,40,40,36,82,42],\"z\":[4149,6679,6679,13964,5867,13471,8580,8580,8580,8580,8580,8580,8580,8580,8580,8580,35799,858,1201,1201,1201,1201,1201,807,3801,3829],\"type\":\"scatter3d\"}],                        {\"template\":{\"data\":{\"histogram2dcontour\":[{\"type\":\"histogram2dcontour\",\"colorbar\":{\"outlinewidth\":0,\"ticks\":\"\"},\"colorscale\":[[0.0,\"#0d0887\"],[0.1111111111111111,\"#46039f\"],[0.2222222222222222,\"#7201a8\"],[0.3333333333333333,\"#9c179e\"],[0.4444444444444444,\"#bd3786\"],[0.5555555555555556,\"#d8576b\"],[0.6666666666666666,\"#ed7953\"],[0.7777777777777778,\"#fb9f3a\"],[0.8888888888888888,\"#fdca26\"],[1.0,\"#f0f921\"]]}],\"choropleth\":[{\"type\":\"choropleth\",\"colorbar\":{\"outlinewidth\":0,\"ticks\":\"\"}}],\"histogram2d\":[{\"type\":\"histogram2d\",\"colorbar\":{\"outlinewidth\":0,\"ticks\":\"\"},\"colorscale\":[[0.0,\"#0d0887\"],[0.1111111111111111,\"#46039f\"],[0.2222222222222222,\"#7201a8\"],[0.3333333333333333,\"#9c179e\"],[0.4444444444444444,\"#bd3786\"],[0.5555555555555556,\"#d8576b\"],[0.6666666666666666,\"#ed7953\"],[0.7777777777777778,\"#fb9f3a\"],[0.8888888888888888,\"#fdca26\"],[1.0,\"#f0f921\"]]}],\"heatmap\":[{\"type\":\"heatmap\",\"colorbar\":{\"outlinewidth\":0,\"ticks\":\"\"},\"colorscale\":[[0.0,\"#0d0887\"],[0.1111111111111111,\"#46039f\"],[0.2222222222222222,\"#7201a8\"],[0.3333333333333333,\"#9c179e\"],[0.4444444444444444,\"#bd3786\"],[0.5555555555555556,\"#d8576b\"],[0.6666666666666666,\"#ed7953\"],[0.7777777777777778,\"#fb9f3a\"],[0.8888888888888888,\"#fdca26\"],[1.0,\"#f0f921\"]]}],\"heatmapgl\":[{\"type\":\"heatmapgl\",\"colorbar\":{\"outlinewidth\":0,\"ticks\":\"\"},\"colorscale\":[[0.0,\"#0d0887\"],[0.1111111111111111,\"#46039f\"],[0.2222222222222222,\"#7201a8\"],[0.3333333333333333,\"#9c179e\"],[0.4444444444444444,\"#bd3786\"],[0.5555555555555556,\"#d8576b\"],[0.6666666666666666,\"#ed7953\"],[0.7777777777777778,\"#fb9f3a\"],[0.8888888888888888,\"#fdca26\"],[1.0,\"#f0f921\"]]}],\"contourcarpet\":[{\"type\":\"contourcarpet\",\"colorbar\":{\"outlinewidth\":0,\"ticks\":\"\"}}],\"contour\":[{\"type\":\"contour\",\"colorbar\":{\"outlinewidth\":0,\"ticks\":\"\"},\"colorscale\":[[0.0,\"#0d0887\"],[0.1111111111111111,\"#46039f\"],[0.2222222222222222,\"#7201a8\"],[0.3333333333333333,\"#9c179e\"],[0.4444444444444444,\"#bd3786\"],[0.5555555555555556,\"#d8576b\"],[0.6666666666666666,\"#ed7953\"],[0.7777777777777778,\"#fb9f3a\"],[0.8888888888888888,\"#fdca26\"],[1.0,\"#f0f921\"]]}],\"surface\":[{\"type\":\"surface\",\"colorbar\":{\"outlinewidth\":0,\"ticks\":\"\"},\"colorscale\":[[0.0,\"#0d0887\"],[0.1111111111111111,\"#46039f\"],[0.2222222222222222,\"#7201a8\"],[0.3333333333333333,\"#9c179e\"],[0.4444444444444444,\"#bd3786\"],[0.5555555555555556,\"#d8576b\"],[0.6666666666666666,\"#ed7953\"],[0.7777777777777778,\"#fb9f3a\"],[0.8888888888888888,\"#fdca26\"],[1.0,\"#f0f921\"]]}],\"mesh3d\":[{\"type\":\"mesh3d\",\"colorbar\":{\"outlinewidth\":0,\"ticks\":\"\"}}],\"scatter\":[{\"fillpattern\":{\"fillmode\":\"overlay\",\"size\":10,\"solidity\":0.2},\"type\":\"scatter\"}],\"parcoords\":[{\"type\":\"parcoords\",\"line\":{\"colorbar\":{\"outlinewidth\":0,\"ticks\":\"\"}}}],\"scatterpolargl\":[{\"type\":\"scatterpolargl\",\"marker\":{\"colorbar\":{\"outlinewidth\":0,\"ticks\":\"\"}}}],\"bar\":[{\"error_x\":{\"color\":\"#2a3f5f\"},\"error_y\":{\"color\":\"#2a3f5f\"},\"marker\":{\"line\":{\"color\":\"#E5ECF6\",\"width\":0.5},\"pattern\":{\"fillmode\":\"overlay\",\"size\":10,\"solidity\":0.2}},\"type\":\"bar\"}],\"scattergeo\":[{\"type\":\"scattergeo\",\"marker\":{\"colorbar\":{\"outlinewidth\":0,\"ticks\":\"\"}}}],\"scatterpolar\":[{\"type\":\"scatterpolar\",\"marker\":{\"colorbar\":{\"outlinewidth\":0,\"ticks\":\"\"}}}],\"histogram\":[{\"marker\":{\"pattern\":{\"fillmode\":\"overlay\",\"size\":10,\"solidity\":0.2}},\"type\":\"histogram\"}],\"scattergl\":[{\"type\":\"scattergl\",\"marker\":{\"colorbar\":{\"outlinewidth\":0,\"ticks\":\"\"}}}],\"scatter3d\":[{\"type\":\"scatter3d\",\"line\":{\"colorbar\":{\"outlinewidth\":0,\"ticks\":\"\"}},\"marker\":{\"colorbar\":{\"outlinewidth\":0,\"ticks\":\"\"}}}],\"scattermapbox\":[{\"type\":\"scattermapbox\",\"marker\":{\"colorbar\":{\"outlinewidth\":0,\"ticks\":\"\"}}}],\"scatterternary\":[{\"type\":\"scatterternary\",\"marker\":{\"colorbar\":{\"outlinewidth\":0,\"ticks\":\"\"}}}],\"scattercarpet\":[{\"type\":\"scattercarpet\",\"marker\":{\"colorbar\":{\"outlinewidth\":0,\"ticks\":\"\"}}}],\"carpet\":[{\"aaxis\":{\"endlinecolor\":\"#2a3f5f\",\"gridcolor\":\"white\",\"linecolor\":\"white\",\"minorgridcolor\":\"white\",\"startlinecolor\":\"#2a3f5f\"},\"baxis\":{\"endlinecolor\":\"#2a3f5f\",\"gridcolor\":\"white\",\"linecolor\":\"white\",\"minorgridcolor\":\"white\",\"startlinecolor\":\"#2a3f5f\"},\"type\":\"carpet\"}],\"table\":[{\"cells\":{\"fill\":{\"color\":\"#EBF0F8\"},\"line\":{\"color\":\"white\"}},\"header\":{\"fill\":{\"color\":\"#C8D4E3\"},\"line\":{\"color\":\"white\"}},\"type\":\"table\"}],\"barpolar\":[{\"marker\":{\"line\":{\"color\":\"#E5ECF6\",\"width\":0.5},\"pattern\":{\"fillmode\":\"overlay\",\"size\":10,\"solidity\":0.2}},\"type\":\"barpolar\"}],\"pie\":[{\"automargin\":true,\"type\":\"pie\"}]},\"layout\":{\"autotypenumbers\":\"strict\",\"colorway\":[\"#636efa\",\"#EF553B\",\"#00cc96\",\"#ab63fa\",\"#FFA15A\",\"#19d3f3\",\"#FF6692\",\"#B6E880\",\"#FF97FF\",\"#FECB52\"],\"font\":{\"color\":\"#2a3f5f\"},\"hovermode\":\"closest\",\"hoverlabel\":{\"align\":\"left\"},\"paper_bgcolor\":\"white\",\"plot_bgcolor\":\"#E5ECF6\",\"polar\":{\"bgcolor\":\"#E5ECF6\",\"angularaxis\":{\"gridcolor\":\"white\",\"linecolor\":\"white\",\"ticks\":\"\"},\"radialaxis\":{\"gridcolor\":\"white\",\"linecolor\":\"white\",\"ticks\":\"\"}},\"ternary\":{\"bgcolor\":\"#E5ECF6\",\"aaxis\":{\"gridcolor\":\"white\",\"linecolor\":\"white\",\"ticks\":\"\"},\"baxis\":{\"gridcolor\":\"white\",\"linecolor\":\"white\",\"ticks\":\"\"},\"caxis\":{\"gridcolor\":\"white\",\"linecolor\":\"white\",\"ticks\":\"\"}},\"coloraxis\":{\"colorbar\":{\"outlinewidth\":0,\"ticks\":\"\"}},\"colorscale\":{\"sequential\":[[0.0,\"#0d0887\"],[0.1111111111111111,\"#46039f\"],[0.2222222222222222,\"#7201a8\"],[0.3333333333333333,\"#9c179e\"],[0.4444444444444444,\"#bd3786\"],[0.5555555555555556,\"#d8576b\"],[0.6666666666666666,\"#ed7953\"],[0.7777777777777778,\"#fb9f3a\"],[0.8888888888888888,\"#fdca26\"],[1.0,\"#f0f921\"]],\"sequentialminus\":[[0.0,\"#0d0887\"],[0.1111111111111111,\"#46039f\"],[0.2222222222222222,\"#7201a8\"],[0.3333333333333333,\"#9c179e\"],[0.4444444444444444,\"#bd3786\"],[0.5555555555555556,\"#d8576b\"],[0.6666666666666666,\"#ed7953\"],[0.7777777777777778,\"#fb9f3a\"],[0.8888888888888888,\"#fdca26\"],[1.0,\"#f0f921\"]],\"diverging\":[[0,\"#8e0152\"],[0.1,\"#c51b7d\"],[0.2,\"#de77ae\"],[0.3,\"#f1b6da\"],[0.4,\"#fde0ef\"],[0.5,\"#f7f7f7\"],[0.6,\"#e6f5d0\"],[0.7,\"#b8e186\"],[0.8,\"#7fbc41\"],[0.9,\"#4d9221\"],[1,\"#276419\"]]},\"xaxis\":{\"gridcolor\":\"white\",\"linecolor\":\"white\",\"ticks\":\"\",\"title\":{\"standoff\":15},\"zerolinecolor\":\"white\",\"automargin\":true,\"zerolinewidth\":2},\"yaxis\":{\"gridcolor\":\"white\",\"linecolor\":\"white\",\"ticks\":\"\",\"title\":{\"standoff\":15},\"zerolinecolor\":\"white\",\"automargin\":true,\"zerolinewidth\":2},\"scene\":{\"xaxis\":{\"backgroundcolor\":\"#E5ECF6\",\"gridcolor\":\"white\",\"linecolor\":\"white\",\"showbackground\":true,\"ticks\":\"\",\"zerolinecolor\":\"white\",\"gridwidth\":2},\"yaxis\":{\"backgroundcolor\":\"#E5ECF6\",\"gridcolor\":\"white\",\"linecolor\":\"white\",\"showbackground\":true,\"ticks\":\"\",\"zerolinecolor\":\"white\",\"gridwidth\":2},\"zaxis\":{\"backgroundcolor\":\"#E5ECF6\",\"gridcolor\":\"white\",\"linecolor\":\"white\",\"showbackground\":true,\"ticks\":\"\",\"zerolinecolor\":\"white\",\"gridwidth\":2}},\"shapedefaults\":{\"line\":{\"color\":\"#2a3f5f\"}},\"annotationdefaults\":{\"arrowcolor\":\"#2a3f5f\",\"arrowhead\":0,\"arrowwidth\":1},\"geo\":{\"bgcolor\":\"white\",\"landcolor\":\"#E5ECF6\",\"subunitcolor\":\"white\",\"showland\":true,\"showlakes\":true,\"lakecolor\":\"white\"},\"title\":{\"x\":0.05},\"mapbox\":{\"style\":\"light\"}}},\"scene\":{\"domain\":{\"x\":[0.0,1.0],\"y\":[0.0,1.0]},\"xaxis\":{\"title\":{\"text\":\"User Rating\"}},\"yaxis\":{\"title\":{\"text\":\"Price\"}},\"zaxis\":{\"title\":{\"text\":\"Reviews\"}}},\"legend\":{\"title\":{\"text\":\"Grupo\"},\"tracegroupgap\":0},\"title\":{\"text\":\"4 grupos de libros\"}},                        {\"responsive\": true}                    ).then(function(){\n",
              "                            \n",
              "var gd = document.getElementById('ca3e9220-f768-4746-977e-f1cb05cf1e3b');\n",
              "var x = new MutationObserver(function (mutations, observer) {{\n",
              "        var display = window.getComputedStyle(gd).display;\n",
              "        if (!display || display === 'none') {{\n",
              "            console.log([gd, 'removed!']);\n",
              "            Plotly.purge(gd);\n",
              "            observer.disconnect();\n",
              "        }}\n",
              "}});\n",
              "\n",
              "// Listen for the removal of the full notebook cells\n",
              "var notebookContainer = gd.closest('#notebook-container');\n",
              "if (notebookContainer) {{\n",
              "    x.observe(notebookContainer, {childList: true});\n",
              "}}\n",
              "\n",
              "// Listen for the clearing of the current output cell\n",
              "var outputEl = gd.closest('.output');\n",
              "if (outputEl) {{\n",
              "    x.observe(outputEl, {childList: true});\n",
              "}}\n",
              "\n",
              "                        })                };                            </script>        </div>\n",
              "</body>\n",
              "</html>"
            ]
          },
          "metadata": {}
        }
      ]
    },
    {
      "cell_type": "markdown",
      "source": [
        "Como se mencionó anteriormente en la descripción de los grupos:\n",
        "\n",
        "El grupo 0 corresponde con una mayor cantidad de reseñas y los puntajes altos, además de que tienen un precio bajo\n",
        "\n",
        "Los libros correspondientes al grupo 1 tienen un precio bajo, una cantidad normal de reseñas y en cuanto a puntuaciones es el grupo con la más baja puntuación.\n",
        "\n",
        "En cuanto al grupo 2, estos libros tienen un precio bajo muy baja cantidad de reseñas y puntuaciones altas.\n",
        "\n",
        "Finalmente, al grupo 3 le corresponden los libros con la puntución más alta, así como un precio alto, pero tienen la menor cantidad de reseñas de los grupos."
      ],
      "metadata": {
        "id": "FnrEL7gFndax"
      }
    }
  ]
}